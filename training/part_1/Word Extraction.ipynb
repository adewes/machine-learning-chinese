{
 "cells": [
  {
   "cell_type": "markdown",
   "metadata": {
    "nbpresent": {
     "id": "82214150-5417-48a9-832b-8994c4551bcf"
    }
   },
   "source": [
    "# 你好!\n",
    "\n",
    "Welcome to \"Machine Learning\" Chinese!\n",
    "\n",
    "## What is this about?\n",
    "\n",
    "Not surprisingly, this tutorial is about Python, Machine Learning and Chinese. We are going to explore ways to understand and improve language learning with Python.\n",
    "\n",
    "The tutorial is split into three sections:\n",
    "\n",
    "* Learning Chinese vocabulary: Here we will explore text data from the web and will try to get an understanding of which words we will have to learn in order to understand everyday Chinese.\n",
    "* Learning Chinese characters: Here we will look at Chinese characters and use machine learning to make learning them easier for us\n",
    "* Learning Chinese pronounication: Here we will use machine learning to help us pronounce Chinese syllables better\n",
    "\n",
    "Let's get started!"
   ]
  },
  {
   "cell_type": "markdown",
   "metadata": {},
   "source": [
    "## Words, words, words\n",
    "\n",
    "The first thing you need to do when learning a new language is to get an idea of the vocabulary"
   ]
  },
  {
   "cell_type": "markdown",
   "metadata": {},
   "source": [
    "First, we need to get some data that we can work with. We are going to scrape it off the web using a Python library / tool called **Scrapy**.\n",
    "\n",
    "Scrapy makes it easy to build and run crawlers and provides much of the functionality that makes scraping easy, like following links and parsing documents.\n",
    "\n",
    "You can read more about Scrapy on the project's website:\n",
    "\n",
    "http://scrapy.org/\n",
    "\n",
    "Scrapy is designed to work as a command-line-tool, hence we will not do this part of the tutorial in the IPython notebook but rather on the command line.\n",
    "\n",
    "We are going to use Scrapy to build crawlers for various Chinese websites.\n",
    "\n",
    "**Let's have a look at the code of our scrapers!**\n",
    "\n",
    "(open the **scraper** subdirectory with your favorite editor)\n",
    "\n",
    "## Running the crawlers\n",
    "\n",
    "Now that we understand our crawlers, we can run them using the following command:\n",
    "\n",
    "    #run the crawler and store the result as JSON (one JSON document per line, for easy parsing)\n",
    "    \n",
    "    scrapy crawl wikipedia -o wikipedia.json -t jsonlines\n",
    "    \n",
    "This runs the Wikipedia crawlers and stores the results as JSON documents, where each result will be written as a one-line JSON document. This is useful because it makes loading the data much easier."
   ]
  },
  {
   "cell_type": "code",
   "execution_count": 188,
   "metadata": {
    "collapsed": false
   },
   "outputs": [],
   "source": [
    "#first, let's import json and nltk libraries, which we're gonna need in a second\n",
    "import gzip\n",
    "import json #from the Python standard library\n",
    "\n",
    "def load_scraped_data(filename):\n",
    "    items = []\n",
    "    with gzip.open(filename,'r') as input_file:\n",
    "        for i,line in enumerate(input_file):\n",
    "            try:\n",
    "                items.append(json.loads(line))\n",
    "            except:\n",
    "                print(\"Cannot parse JSON at line {}\".format(i+1,))\n",
    "                pass\n",
    "    return items\n",
    "\n",
    "sites = ['wikipedia','china_daily']\n",
    "        \n",
    "filename = 'data/china_daily.json.gz.json.gz.json.gz'\n",
    "\n",
    "items = load_scraped_data(filename)"
   ]
  },
  {
   "cell_type": "code",
   "execution_count": 189,
   "metadata": {
    "collapsed": false
   },
   "outputs": [
    {
     "name": "stdout",
     "output_type": "stream",
     "text": [
      "# 扶真贫才能真脱贫\n",
      "\n",
      "来源：人民日报\n",
      "\n",
      "2016-07-19 14:43:45\n",
      "\n",
      "\n",
      "\n",
      "\n",
      "\n",
      "\n",
      "\n",
      "\n",
      "\n",
      "\n",
      "\n",
      "分享\n",
      "\n",
      "行走西海固，翻越六盘山，探访移民点，一个深切感受是：闽宁对口帮扶，帮得准，扶得实，群众的获得感强，脱贫增收的效果好。\n",
      "\n",
      "对此，不少扶贫干部颇为自豪：“精准扶贫”这一中央提出的重要扶贫方略近年来正在各地落实，在闽宁对口帮扶的实践中，从一开始就体现了这一思想，也验证了这一思路。\n",
      "\n",
      "集力聚资， ...\n"
     ]
    }
   ],
   "source": [
    "#Let's have a look at the items...\n",
    "print items[0]['text'][:200],'...'"
   ]
  },
  {
   "cell_type": "markdown",
   "metadata": {},
   "source": [
    "## Cleaning the data\n",
    "\n",
    "As you can see, there are various non-chinese characters in the text. For now, we will just leave them there, as we do not want to change the ordering of characters (i.e. if we had \"媒：习\" and we'd remove the \"：\", the two characters would appear in a sequence, which will distort our later analyses)."
   ]
  },
  {
   "cell_type": "code",
   "execution_count": 190,
   "metadata": {
    "collapsed": false
   },
   "outputs": [],
   "source": [
    "from collections import defaultdict\n",
    "import numpy as np\n",
    "\n",
    "def get_ngram_distribution(text,n=2):\n",
    "    distribution=defaultdict(lambda: 0)\n",
    "    for i in range(len(text)-n+1):\n",
    "        #we are only interested in non-ascii characters here...\n",
    "        t=text[i:i+n]\n",
    "        if all([ord(c) > 255 for c in t]):\n",
    "            distribution[t]+=1\n",
    "    return distribution\n",
    "\n",
    "def remove_ngrams(text,ngrams):\n",
    "    for ngram in ngrams:\n",
    "        while text.find(ngram) != -1:\n",
    "            i=text.find(ngram)\n",
    "            substr = text[i:i+len(ngram)]\n",
    "            j=i\n",
    "            while j > 0 and text[j:j+len(ngram)] in ngrams:\n",
    "                j-=1\n",
    "            k=i\n",
    "            while k < len(text)-len(ngram) and text[k:k+len(ngram)] in ngrams:\n",
    "                k+=1\n",
    "            text = text[:j]+text[k+len(ngram):]\n",
    "    return text\n",
    "            \n",
    "def remove_common_ngrams(items,threshold=0.5,n=3):\n",
    "    full_text = ' '.join([item['text'] for item in items])\n",
    "    ngram_distribution = get_ngram_distribution(full_text,n=n)\n",
    "    common_ngrams = {''.join(v[0]) for v in sorted(ngram_distribution.items(),key=lambda x:-x[1]) if v[1] > threshold*len(items)}\n",
    "    for item in items:\n",
    "        item['text']=remove_ngrams(item['text'],common_ngrams)\n",
    "    return common_ngrams\n",
    "\n",
    "removed_ngrams=remove_common_ngrams(items,n=6,threshold=0.05)"
   ]
  },
  {
   "cell_type": "code",
   "execution_count": 191,
   "metadata": {
    "collapsed": false
   },
   "outputs": [],
   "source": [
    "from collections import defaultdict\n",
    "\n",
    "def get_character_distribution(text):\n",
    "    distribution = defaultdict(lambda: 0)\n",
    "    for character in text:\n",
    "        #we are only interested in non-ascii characters here...\n",
    "        if ord(character) > 255:\n",
    "            distribution[character]+=1\n",
    "    return distribution\n",
    "\n",
    "full_text = ' '.join([item['text'] for item in items])\n",
    "character_distribution = get_character_distribution(full_text)"
   ]
  },
  {
   "cell_type": "code",
   "execution_count": 192,
   "metadata": {
    "collapsed": false,
    "scrolled": true
   },
   "outputs": [
    {
     "name": "stdout",
     "output_type": "stream",
     "text": [
      "一: 167105\n",
      "，: 157472\n",
      "页: 132254\n",
      "的: 110461\n",
      "上: 82976\n",
      "下: 74006\n",
      "。: 70759\n",
      "国: 65470\n",
      "、: 50301\n",
      "中: 48231\n",
      "在: 31577\n",
      "”: 30317\n",
      "“: 30276\n",
      "是: 29370\n",
      "人: 28996\n",
      "和: 28198\n",
      "大: 25035\n",
      "发: 24812\n",
      "不: 22659\n",
      "会: 22399\n",
      "了: 22016\n",
      "新: 21917\n",
      "有: 21903\n",
      "年: 21489\n",
      "要: 20891\n",
      "为: 19840\n",
      "民: 18847\n",
      "作: 18439\n",
      "党: 17130\n",
      "展: 16746\n",
      "全: 16427\n",
      "网: 16300\n",
      "经: 15587\n",
      "出: 15382\n",
      "主: 15104\n",
      "家: 15043\n",
      "业: 14983\n",
      "成: 14792\n",
      "实: 14450\n",
      "对: 14326\n",
      "日: 14304\n",
      "行: 14249\n",
      "政: 13959\n",
      "来: 13738\n",
      "：: 13706\n",
      "理: 13181\n",
      "进: 13146\n",
      "个: 13129\n",
      "力: 13035\n",
      "法: 12955\n",
      "时: 12704\n",
      "方: 12402\n",
      "这: 12397\n",
      "我: 12319\n",
      "动: 12147\n",
      "地: 12055\n",
      "平: 12048\n",
      "重: 11855\n",
      "生: 11727\n",
      "学: 11650\n",
      "强: 11509\n",
      "关: 11508\n",
      "工: 11505\n",
      "以: 11267\n",
      "多: 10853\n",
      "合: 10814\n",
      "体: 10638\n",
      "化: 10556\n",
      "能: 10365\n",
      "到: 10363\n",
      "部: 10196\n",
      "们: 10190\n",
      "建: 10164\n",
      "同: 10156\n",
      "开: 10097\n",
      "分: 10057\n",
      "海: 10000\n",
      "现: 9845\n",
      "月: 9461\n",
      "自: 9442\n",
      "于: 9276\n",
      "就: 9215\n",
      "与: 9199\n",
      "制: 9093\n",
      "事: 9044\n",
      "产: 9038\n",
      "长: 8962\n",
      "面: 8898\n",
      "定: 8880\n",
      "过: 8705\n",
      "济: 8675\n",
      "高: 8660\n",
      "信: 8638\n",
      "共: 8637\n",
      "创: 8607\n",
      "习: 8606\n",
      "推: 8541\n",
      "治: 8533\n",
      "问: 8477\n",
      "领: 8304\n"
     ]
    }
   ],
   "source": [
    "sorted_character_distribution = sorted(character_distribution.items(), key=lambda x: -x[1])\n",
    "print '\\n'.join([u'{}: {}'.format(c[0],c[1]) for c in sorted_character_distribution[:100]])"
   ]
  },
  {
   "cell_type": "markdown",
   "metadata": {},
   "source": [
    "* 中 (zhong1): middle (e.g. 中国 (zhong1 guo2): China [middle country])\n",
    "* 国 (guo2): country\n",
    "* 上 (shang4): above"
   ]
  },
  {
   "cell_type": "markdown",
   "metadata": {},
   "source": [
    "## Exercicse\n",
    "\n",
    "---\n",
    "\n",
    "Print the 100 least used characters!\n",
    "\n",
    "---"
   ]
  },
  {
   "cell_type": "markdown",
   "metadata": {},
   "source": [
    "## Plotting the frequencies\n",
    "\n",
    "Now, we want to visualize the word frequency data. We are going to use Matplotlib for this.\n",
    "\n",
    "For this, we import the \"pylab\" package from matplotlib, which provides everything we need\n",
    "for our plotting needs and has an interface that is similar to Matlab (in case you should still know that ;))"
   ]
  },
  {
   "cell_type": "code",
   "execution_count": 193,
   "metadata": {
    "collapsed": true
   },
   "outputs": [],
   "source": [
    "from matplotlib import pylab "
   ]
  },
  {
   "cell_type": "markdown",
   "metadata": {},
   "source": [
    "We also will use numpy, which is a library that provides great tools for working with numerical data."
   ]
  },
  {
   "cell_type": "code",
   "execution_count": 194,
   "metadata": {
    "collapsed": false
   },
   "outputs": [],
   "source": [
    "import numpy as np"
   ]
  },
  {
   "cell_type": "code",
   "execution_count": 195,
   "metadata": {
    "collapsed": false
   },
   "outputs": [],
   "source": [
    "#we prepare the data\n",
    "\n",
    "#the X values\n",
    "X = np.arange(len(sorted_character_distribution))\n",
    "\n",
    "#the character frequency values\n",
    "frequencies = np.array([c[1] for c in sorted_character_distribution],dtype=np.float64)\n",
    "frequencies = frequencies/np.sum(frequencies)"
   ]
  },
  {
   "cell_type": "code",
   "execution_count": 350,
   "metadata": {
    "collapsed": true
   },
   "outputs": [],
   "source": [
    "#this is some magic code to tell matplotlib to plot this inline\n",
    "%matplotlib inline\n",
    "\n",
    "#here we increase the font size\n",
    "from matplotlib import rc\n",
    "rc('font', size=20)"
   ]
  },
  {
   "cell_type": "code",
   "execution_count": 196,
   "metadata": {
    "collapsed": false
   },
   "outputs": [
    {
     "data": {
      "text/plain": [
       "[]"
      ]
     },
     "execution_count": 196,
     "metadata": {},
     "output_type": "execute_result"
    },
    {
     "data": {
      "image/png": "[encoded data removed]",
      "text/plain": [
       "<matplotlib.figure.Figure at 0x7f6ce7f5de50>"
      ]
     },
     "metadata": {},
     "output_type": "display_data"
    }
   ],
   "source": [
    "pylab.figure(figsize=(20,10))\n",
    "pylab.plot(X,frequencies)\n",
    "pylab.semilogy()"
   ]
  },
  {
   "cell_type": "code",
   "execution_count": 197,
   "metadata": {
    "collapsed": false
   },
   "outputs": [
    {
     "name": "stdout",
     "output_type": "stream",
     "text": [
      "Optimal parameters: [-5.62633963  0.69072771  0.02834226]\n",
      "[[  1.48244069e-04  -2.05109635e-05   5.28253740e-06]\n",
      " [ -2.05109635e-05   3.40860859e-06  -8.61249785e-07]\n",
      " [  5.28253740e-06  -8.61249785e-07   2.18095285e-07]]\n"
     ]
    }
   ],
   "source": [
    "import scipy.optimize\n",
    "import numpy as np\n",
    "\n",
    "def model(x,a,b,c):\n",
    "    return -x**b*c+a\n",
    "\n",
    "popt_p, pcov_p = scipy.optimize.curve_fit(model, X, np.log(frequencies),[0.03,0.5,0.1])\n",
    "\n",
    "print \"Optimal parameters:\",popt_p\n",
    "\n",
    "print pcov_p"
   ]
  },
  {
   "cell_type": "markdown",
   "metadata": {},
   "source": [
    "Now let's plot the resulting fit with the original data."
   ]
  },
  {
   "cell_type": "code",
   "execution_count": 198,
   "metadata": {
    "collapsed": false
   },
   "outputs": [
    {
     "data": {
      "text/plain": [
       "[]"
      ]
     },
     "execution_count": 198,
     "metadata": {},
     "output_type": "execute_result"
    },
    {
     "data": {
      "image/png": "[encoded data removed]",
      "text/plain": [
       "<matplotlib.figure.Figure at 0x7f6ce6b347d0>"
      ]
     },
     "metadata": {},
     "output_type": "display_data"
    }
   ],
   "source": [
    "pylab.figure(figsize=(20,10))\n",
    "pylab.plot(X,frequencies)\n",
    "pylab.plot(X,np.exp(model(X,*popt_p)),ls='--')\n",
    "pylab.legend(['data','model'])\n",
    "pylab.semilogy()"
   ]
  },
  {
   "cell_type": "code",
   "execution_count": 199,
   "metadata": {
    "collapsed": false
   },
   "outputs": [
    {
     "data": {
      "text/plain": [
       "(0, 1)"
      ]
     },
     "execution_count": 199,
     "metadata": {},
     "output_type": "execute_result"
    },
    {
     "data": {
      "image/png": "[encoded data removed]",
      "text/plain": [
       "<matplotlib.figure.Figure at 0x7f6ce6bb5b50>"
      ]
     },
     "metadata": {},
     "output_type": "display_data"
    }
   ],
   "source": [
    "pylab.figure(figsize=(20,10))\n",
    "pylab.plot(X,np.cumsum(frequencies))\n",
    "pylab.semilogx()\n",
    "pylab.xlabel('how many Chinese characters we know')\n",
    "pylab.ylabel('hhow many percent of zh.wikipedia.org we understand')\n",
    "pylab.axhline(0.5,ls='--')\n",
    "pylab.axhline(0.9,ls='--')\n",
    "pylab.axvline(3000,ls='--')\n",
    "pylab.ylim(0,1)"
   ]
  },
  {
   "cell_type": "code",
   "execution_count": 200,
   "metadata": {
    "collapsed": false
   },
   "outputs": [],
   "source": [
    "def cdf_model(x,a,b,c):\n",
    "    t = np.sum(np.exp(model(x,a,b,c)))\n",
    "    return np.cumsum(np.exp(model(x,a,b,c)))/t"
   ]
  },
  {
   "cell_type": "code",
   "execution_count": 201,
   "metadata": {
    "collapsed": false
   },
   "outputs": [
    {
     "data": {
      "text/plain": [
       "(0, 1)"
      ]
     },
     "execution_count": 201,
     "metadata": {},
     "output_type": "execute_result"
    },
    {
     "data": {
      "image/png": "[encoded data removed]",
      "text/plain": [
       "<matplotlib.figure.Figure at 0x7f6ce4b881d0>"
      ]
     },
     "metadata": {},
     "output_type": "display_data"
    }
   ],
   "source": [
    "pylab.figure(figsize=(20,10))\n",
    "pylab.plot(X,np.cumsum(frequencies))\n",
    "pylab.plot(X,cdf_model(X,*popt_p),ls='--')\n",
    "pylab.semilogx()\n",
    "pylab.xlabel('how many Chinese characters we know')\n",
    "pylab.ylabel('hhow many percent of zh.wikipedia.org we understand')\n",
    "pylab.axhline(0.5,ls='--')\n",
    "pylab.axhline(0.9,ls='--')\n",
    "pylab.ylim(0,1)"
   ]
  },
  {
   "cell_type": "markdown",
   "metadata": {},
   "source": [
    "## Exercicse\n",
    "\n",
    "---\n",
    "\n",
    "We want to improve the fit of our model to the data. To do this, we are going to fit a different curve to the most common words.\n",
    "\n",
    "* Create a dataset of the 1000 most common characters in our dataset.\n",
    "* Make a plot of the resulting dataset.\n",
    "* Write a function of the form ... to fit to the dataset.\n",
    "* Use scipy.optimize.curve_fit to fit the model to the data.\n",
    "* Plot the resulting curve with the original data.\n",
    "---\n",
    "\n",
    "### Hints\n",
    "\n",
    "---\n",
    "\n",
    "* In numpy, you can use `X[:1000]` to get the first 1000 elements of a list.\n",
    "* As starting parameters, you can use `[..,..,..]`\n",
    "\n",
    "---"
   ]
  },
  {
   "cell_type": "markdown",
   "metadata": {},
   "source": [
    "## More questions that we'll try to answer (without speaking a word of Chinese!)\n",
    "\n",
    "* Which of those characters are words on their own, and which are part of a word?\n",
    "* How does the number of distinct characters vary from page to page?\n",
    "* Which pages are probably related, given the characters that appear in them?"
   ]
  },
  {
   "cell_type": "markdown",
   "metadata": {},
   "source": [
    "# Which character sequences are words?\n",
    "\n",
    "Now that we know which characters occur most frequently, let's try to find out which ones of them make up words. Chinese has about 1500 syllables ([1],[2]), which means that there are far more words with two or more syllables than with a single syllable. However, about 50 - 70 % of words in common texts are mono-syllabic, whereas 30 % are di-syllabic and only 1-5 % have more than two syllables ([3]).\n",
    "\n",
    "\n",
    "[1]: https://en.wikipedia.org/wiki/Standard_Chinese_phonology\n",
    "[2]: http://chinese.stackexchange.com/questions/14596/how-many-syllables-does-chinese-have\n",
    "[3]: http://journals.plos.org/plosone/article?id=10.1371/journal.pone.0138567\n",
    "\n",
    "### Let's try to find out which character combinations make up words!"
   ]
  },
  {
   "cell_type": "code",
   "execution_count": 202,
   "metadata": {
    "collapsed": true
   },
   "outputs": [],
   "source": [
    "#we join the whole text together\n",
    "full_text = ' '.join([item['text'] for item in items])\n",
    "#we generate the bigram distribution\n",
    "bigram_distribution = get_ngram_distribution(full_text,2)"
   ]
  },
  {
   "cell_type": "code",
   "execution_count": 203,
   "metadata": {
    "collapsed": false
   },
   "outputs": [
    {
     "name": "stdout",
     "output_type": "stream",
     "text": [
      "一页: 132146\n",
      "下一: 66297\n",
      "上一: 66194\n",
      "中国: 23320\n",
      "发展: 13418\n",
      "经济: 8485\n",
      "国家: 7907\n",
      "人民: 7838\n",
      "我们: 6740\n",
      "工作: 6054\n",
      "社会: 5766\n",
      "问题: 5729\n",
      "近平: 4992\n",
      "网络: 4940\n",
      "习近: 4933\n",
      "国际: 4805\n",
      "创新: 4712\n",
      "一个: 4678\n",
      "历史: 4665\n",
      "，中: 4525\n",
      "建设: 4500\n",
      "合作: 4500\n",
      "改革: 4408\n",
      "南海: 4310\n",
      "重要: 4212\n",
      "。”: 4031\n",
      "主义: 4025\n",
      "仲裁: 4009\n",
      "安全: 3972\n",
      "世界: 3940\n",
      "”，: 3908\n",
      "领导: 3800\n",
      "分享: 3602\n",
      "美国: 3529\n",
      "，在: 3520\n",
      "国内: 3393\n",
      "党的: 3383\n",
      "企业: 3367\n",
      "中央: 3324\n",
      "互联: 3237\n",
      "，是: 3197\n",
      "政府: 3166\n",
      "政治: 3164\n",
      "，我: 3155\n",
      "”。: 3142\n",
      "，不: 3124\n",
      "关系: 3047\n",
      "联网: 3040\n",
      "坚持: 3001\n",
      "群众: 2965\n",
      "，这: 2906\n",
      "全国: 2838\n",
      "干部: 2799\n",
      "记者: 2775\n",
      "更多: 2752\n",
      "实现: 2746\n",
      "”的: 2745\n",
      "通过: 2740\n",
      "会议: 2712\n",
      "的“: 2710\n",
      "研究: 2691\n",
      "，也: 2663\n",
      "来，: 2632\n",
      "就是: 2580\n",
      "　　: 2575\n",
      "没有: 2556\n",
      "解决: 2552\n",
      "文化: 2535\n",
      "国的: 2476\n",
      "——: 2473\n",
      "我国: 2470\n",
      "战略: 2460\n",
      "完成: 2449\n",
      "思想: 2449\n",
      "制度: 2433\n",
      "技术: 2427\n",
      "精神: 2409\n",
      "组织: 2390\n",
      "信息: 2389\n",
      "，“: 2382\n",
      "服务: 2369\n",
      "推进: 2346\n",
      "书记: 2344\n",
      "克强: 2341\n",
      "方面: 2332\n",
      "日，: 2322\n",
      "北京: 2299\n",
      "李克: 2294\n",
      "民族: 2291\n",
      "政策: 2286\n",
      "增长: 2276\n",
      "进行: 2260\n",
      "成为: 2256\n",
      "共同: 2248\n",
      "市场: 2247\n",
      "推动: 2241\n",
      "说，: 2225\n",
      "的重: 2161\n",
      "表示: 2152\n",
      "国人: 2141\n"
     ]
    }
   ],
   "source": [
    "#we plot the 100 most frequent bigrams in the text\n",
    "top_100_bigrams=sorted(bigram_distribution.items(), key=lambda x: -x[1])[:100]\n",
    "print '\\n'.join([u'{}: {}'.format(''.join(c[0]),c[1]) for c in top_100_bigrams])"
   ]
  },
  {
   "cell_type": "markdown",
   "metadata": {},
   "source": [
    "## Exercise 1.3\n",
    "\n",
    "---\n",
    "\n",
    "Print the 100 most frequently occurring trigrams.\n",
    "\n",
    "---"
   ]
  },
  {
   "cell_type": "markdown",
   "metadata": {},
   "source": [
    "### Question 1: Which character sequences are words?\n",
    "\n",
    "To work this out, we can make use of some statistics!\n",
    "\n",
    "From our earlier analysis, we know the empirical frequency of each character in the text. If two characters are forming a word, we can assume that the frequency of seeing them together is much higher than seeing both characters on their own. What makes things complicated though is that many characters can form a single word on their own but also appear in conjunction with other characters to form a different word or expression.\n",
    "\n",
    "So, to get a better idea of this, let's first plot the frequency of a given bigram, divided by the frequencies of each of the characters in the bigram.\n",
    "\n",
    "## Exercise\n",
    "\n",
    "---\n",
    "\n",
    "* Plot the frequencies of the bigrams over the product of the frequencies of the individual characters\n",
    "* Try to find a good cutoff that we can use to distinguish single-character words from multi-character words\n",
    "\n",
    "---"
   ]
  },
  {
   "cell_type": "code",
   "execution_count": null,
   "metadata": {
    "collapsed": true
   },
   "outputs": [],
   "source": []
  },
  {
   "cell_type": "markdown",
   "metadata": {},
   "source": [
    "## How does the number of characters vary from page to page?\n",
    "\n",
    "Now let's have a look how the number and frequency of characters varies from page to page. This information can help us to spot pages that might be easier to understand for beginners, and pages that we should probably avoid..."
   ]
  },
  {
   "cell_type": "markdown",
   "metadata": {
    "collapsed": true
   },
   "source": [
    "## Exercise\n",
    "\n",
    "---\n",
    "\n",
    "* Generate the distribution of the number of distict characters in each article.\n",
    "* Find the articles that contain the least and the most distinct characters.\n",
    "* Based on the set of distinct characters, find the two articles that are most similar to each other.\n",
    "\n",
    "---"
   ]
  },
  {
   "cell_type": "markdown",
   "metadata": {},
   "source": [
    "## Which pages are probably related, given the characters in them?\n",
    "\n",
    "As a final exercise, we are going to build a classifier that tries to categorize a given page using the character information that we find on it."
   ]
  },
  {
   "cell_type": "code",
   "execution_count": 204,
   "metadata": {
    "collapsed": false
   },
   "outputs": [
    {
     "name": "stdout",
     "output_type": "stream",
     "text": [
      "中国频道 (2843)\n",
      "要闻 (1888)\n",
      "理论 (351)\n",
      "评论 (313)\n",
      "专题 (199)\n",
      "分析评论 (190)\n",
      "媒体聚集 (149)\n",
      "总理 (126)\n",
      "中国南海 (108)\n",
      "媒体聚焦 (56)\n"
     ]
    }
   ],
   "source": [
    "category_frequencies = defaultdict(lambda:0)\n",
    "for i,item in enumerate(items):\n",
    "    for category in item['categories']:\n",
    "        category_frequencies[category]+=1\n",
    "top_10_categories = sorted(category_frequencies.items(),key=lambda x:-x[1])[:10]\n",
    "print u\"\\n\".join([u\"{} ({})\".format(category,frequency) for category,frequency in top_10_categories])"
   ]
  },
  {
   "cell_type": "markdown",
   "metadata": {},
   "source": [
    "## Translations for the most common categories (courtesy Google Translate)\n",
    "\n",
    "Wikipedia:\n",
    "\n",
    "* 页面分类: Category Page\n",
    "* 世界之最: Highest in the world\n",
    "* 時尚界人物: Fashion & People\n",
    "* 模特兒: Model (?)\n",
    "* 時尚: Mode\n",
    "* 維基百科請求: Wikipedia Request\n",
    "* 维基百科维护: Wikipedia Maintenance\n",
    "* 管理员积压工作: Administrative Section\n",
    "* 在世人物: People's life\n",
    "* 東京都出身人物: Person Born in Tokyo\n",
    "\n",
    "China Daily:\n",
    "\n",
    "* 中国频道: Chinese Channel\n",
    "* 要闻: Breaking News\n",
    "* 理论: Theory\n",
    "* 评论: Review\n",
    "* 专题: Special Issue\n",
    "* 分析评论: Comment Analysis\n",
    "* 媒体聚集: Media Focus\n",
    "* 总理: Prime Minister\n",
    "* 中国南海: South Chinese Sea\n",
    "* 媒体聚焦: Media Focus (again)"
   ]
  },
  {
   "cell_type": "code",
   "execution_count": 337,
   "metadata": {
    "collapsed": true
   },
   "outputs": [],
   "source": [
    "from sklearn.feature_extraction.text import TfidfVectorizer\n",
    "from sklearn.cluster import KMeans\n",
    "from sklearn import metrics"
   ]
  },
  {
   "cell_type": "markdown",
   "metadata": {},
   "source": [
    "## Text Vectorization\n",
    "\n",
    "To perform machine learning on our text data, we need a way to generate feature vectors from the raw text. A popular method for doing so is count-vectoriaztion and TF-ID (term-frequency times inverse document-frequency [1]), which performs a weighing of each character by the inverse frequency with which it occurs in all documents. This is useful as it reduced the weight of characters that are ubiquitous in our data set (and which therefore do not contribute much information).\n",
    "\n",
    "[1]: http://scikit-learn.org/stable/modules/generated/sklearn.feature_extraction.text.TfidfTransformer.html#sklearn.feature_extraction.text.TfidfTransformer"
   ]
  },
  {
   "cell_type": "code",
   "execution_count": 338,
   "metadata": {
    "collapsed": false
   },
   "outputs": [],
   "source": [
    "import random\n",
    "vectorizer = TfidfVectorizer(max_df=0.5, max_features=500,\n",
    "                                 min_df=2, stop_words=None,\n",
    "                                 use_idf=True)\n",
    "\n",
    "def remove_category_names(text,categories):\n",
    "    transformed_text = text\n",
    "    for category in categories:\n",
    "        for character in category:\n",
    "            transformed_text = transformed_text.replace(character,'')\n",
    "    return transformed_text\n",
    "\n",
    "top_10_categories_set = set([c[0] for c in top_10_categories[2:]])\n",
    "#we assign labels to the categories\n",
    "top_10_categories_labels = {category : i for i, category in enumerate(top_10_categories_set)}\n",
    "relevant_items = [(item,(set(item['categories']) & top_10_categories_set).pop()) for item in items if len(set(item['categories']) & top_10_categories_set)]\n",
    "random.shuffle(relevant_items)\n",
    "X = vectorizer.fit_transform([remove_category_names(item[0]['text'],item[0]['categories']) for item in relevant_items])\n",
    "Y = np.array([top_10_categories_labels[item[1]] for item in relevant_items])"
   ]
  },
  {
   "cell_type": "code",
   "execution_count": 339,
   "metadata": {
    "collapsed": true
   },
   "outputs": [],
   "source": [
    "from sklearn.cross_validation import train_test_split\n",
    "(trainX, testX, trainY, testY) = train_test_split(X, Y, test_size = 0.83)"
   ]
  },
  {
   "cell_type": "code",
   "execution_count": 340,
   "metadata": {
    "collapsed": false
   },
   "outputs": [],
   "source": [
    "#http://scikit-learn.org/stable/tutorial/text_analytics/working_with_text_data.html\n",
    "from sklearn.feature_extraction.text import TfidfTransformer\n",
    "tfidf_transformer = TfidfTransformer()\n",
    "trainX_tfid = tfidf_transformer.fit_transform(trainX)\n",
    "testX_tfid = tfidf_transformer.fit_transform(testX)"
   ]
  },
  {
   "cell_type": "code",
   "execution_count": 341,
   "metadata": {
    "collapsed": true
   },
   "outputs": [],
   "source": [
    "from sklearn.naive_bayes import MultinomialNB"
   ]
  },
  {
   "cell_type": "code",
   "execution_count": 342,
   "metadata": {
    "collapsed": false
   },
   "outputs": [],
   "source": [
    "clf = MultinomialNB().fit(trainX_tfid, trainY)"
   ]
  },
  {
   "cell_type": "code",
   "execution_count": 347,
   "metadata": {
    "collapsed": false
   },
   "outputs": [
    {
     "name": "stdout",
     "output_type": "stream",
     "text": [
      "[4 0 6 4 4 4 4 6 5 0 0 6 5 4 6 0 6 4 4 4] [4 0 6 1 0 3 4 1 5 0 0 4 5 4 6 0 4 3 3 4]\n"
     ]
    }
   ],
   "source": [
    "predictY = clf.predict(testX_tfid)\n",
    "print predictY[:20],testY[:20]"
   ]
  },
  {
   "cell_type": "code",
   "execution_count": 348,
   "metadata": {
    "collapsed": false
   },
   "outputs": [
    {
     "name": "stdout",
     "output_type": "stream",
     "text": [
      "Prediction accuracy: 51.85%!\n"
     ]
    }
   ],
   "source": [
    "import sklearn.metrics as metrics\n",
    "print \"Prediction accuracy: {:.2f}%!\".format(metrics.accuracy_score(testY,predictY)*100)"
   ]
  },
  {
   "cell_type": "code",
   "execution_count": 349,
   "metadata": {
    "collapsed": false
   },
   "outputs": [
    {
     "name": "stdout",
     "output_type": "stream",
     "text": [
      "[[ 62   0   0  12   0   4]\n",
      " [  4  12   0  44   2  75]\n",
      " [  0   0  12  74   0   5]\n",
      " [  0   3   5 159   2  53]\n",
      " [  0   0   0  33  41  30]\n",
      " [  0   4   0  27   0 120]]\n"
     ]
    }
   ],
   "source": [
    "print metrics.confusion_matrix(testY,predictY)"
   ]
  },
  {
   "cell_type": "markdown",
   "metadata": {},
   "source": [
    "# Further Exercices\n",
    "\n",
    "---\n",
    "\n",
    "* Write a crawler for another Chinese website and run it to gather some data\n",
    "* Use the crawled data to perform the analyses that we did above (and possibly some others)\n",
    "* Load the classical Chinese text by Zhang Dai (a Ming dynasty writer who lived 1597-1689), which you can find in 'western-lake.txt', and perform the same analyses as above on it. Analyze the difference to a contemporary text.\n",
    "\n",
    "---\n"
   ]
  }
 ],
 "metadata": {
  "kernelspec": {
   "display_name": "Python 2",
   "language": "python",
   "name": "python2"
  },
  "language_info": {
   "codemirror_mode": {
    "name": "ipython",
    "version": 2
   },
   "file_extension": ".py",
   "mimetype": "text/x-python",
   "name": "python",
   "nbconvert_exporter": "python",
   "pygments_lexer": "ipython2",
   "version": "2.7.11+"
  },
  "nbpresent": {
   "slides": {
    "25b680fa-ea50-44a4-82a3-6621fa61547a": {
     "id": "25b680fa-ea50-44a4-82a3-6621fa61547a",
     "prev": null,
     "regions": {
      "5f8ba03d-ed09-4150-86e1-01d3fc1792c9": {
       "attrs": {
        "height": 1,
        "width": 1,
        "x": 0.0013854679802955665,
        "y": 0.009852216748768473
       },
       "content": {
        "cell": "82214150-5417-48a9-832b-8994c4551bcf",
        "part": "source"
       },
       "id": "5f8ba03d-ed09-4150-86e1-01d3fc1792c9"
      }
     }
    }
   },
   "themes": {
    "default": "3f4e1bdb-1efc-4ec4-9cff-ad8b054fcbbb",
    "theme": {
     "1eba4a1c-cc68-4972-b55a-2f5e1ed90d98": {
      "backgrounds": {
       "dc7afa04-bf90-40b1-82a5-726e3cff5267": {
        "background-color": "31af15d2-7e15-44c5-ab5e-e04b16a89eff",
        "id": "dc7afa04-bf90-40b1-82a5-726e3cff5267"
       }
      },
      "id": "1eba4a1c-cc68-4972-b55a-2f5e1ed90d98",
      "palette": {
       "19cc588f-0593-49c9-9f4b-e4d7cc113b1c": {
        "id": "19cc588f-0593-49c9-9f4b-e4d7cc113b1c",
        "rgb": [
         252,
         252,
         252
        ]
       },
       "31af15d2-7e15-44c5-ab5e-e04b16a89eff": {
        "id": "31af15d2-7e15-44c5-ab5e-e04b16a89eff",
        "rgb": [
         68,
         68,
         68
        ]
       },
       "50f92c45-a630-455b-aec3-788680ec7410": {
        "id": "50f92c45-a630-455b-aec3-788680ec7410",
        "rgb": [
         197,
         226,
         245
        ]
       },
       "c5cc3653-2ee1-402a-aba2-7caae1da4f6c": {
        "id": "c5cc3653-2ee1-402a-aba2-7caae1da4f6c",
        "rgb": [
         43,
         126,
         184
        ]
       },
       "efa7f048-9acb-414c-8b04-a26811511a21": {
        "id": "efa7f048-9acb-414c-8b04-a26811511a21",
        "rgb": [
         25.118061674008803,
         73.60176211453744,
         107.4819383259912
        ]
       }
      },
      "rules": {
       "a": {
        "color": "19cc588f-0593-49c9-9f4b-e4d7cc113b1c"
       },
       "blockquote": {
        "color": "50f92c45-a630-455b-aec3-788680ec7410",
        "font-size": 3
       },
       "code": {
        "font-family": "Anonymous Pro"
       },
       "h1": {
        "color": "19cc588f-0593-49c9-9f4b-e4d7cc113b1c",
        "font-family": "Merriweather",
        "font-size": 8
       },
       "h2": {
        "color": "19cc588f-0593-49c9-9f4b-e4d7cc113b1c",
        "font-family": "Merriweather",
        "font-size": 6
       },
       "h3": {
        "color": "50f92c45-a630-455b-aec3-788680ec7410",
        "font-family": "Lato",
        "font-size": 5.5
       },
       "h4": {
        "color": "c5cc3653-2ee1-402a-aba2-7caae1da4f6c",
        "font-family": "Lato",
        "font-size": 5
       },
       "h5": {
        "font-family": "Lato"
       },
       "h6": {
        "font-family": "Lato"
       },
       "h7": {
        "font-family": "Lato"
       },
       "li": {
        "color": "50f92c45-a630-455b-aec3-788680ec7410",
        "font-size": 3.25
       },
       "pre": {
        "font-family": "Anonymous Pro",
        "font-size": 4
       }
      },
      "text-base": {
       "color": "19cc588f-0593-49c9-9f4b-e4d7cc113b1c",
       "font-family": "Lato",
       "font-size": 4
      }
     },
     "33f2597d-ea06-46f8-9dac-a9a674f43acd": {
      "id": "33f2597d-ea06-46f8-9dac-a9a674f43acd",
      "palette": {
       "19cc588f-0593-49c9-9f4b-e4d7cc113b1c": {
        "id": "19cc588f-0593-49c9-9f4b-e4d7cc113b1c",
        "rgb": [
         252,
         252,
         252
        ]
       },
       "31af15d2-7e15-44c5-ab5e-e04b16a89eff": {
        "id": "31af15d2-7e15-44c5-ab5e-e04b16a89eff",
        "rgb": [
         68,
         68,
         68
        ]
       },
       "50f92c45-a630-455b-aec3-788680ec7410": {
        "id": "50f92c45-a630-455b-aec3-788680ec7410",
        "rgb": [
         155,
         177,
         192
        ]
       },
       "c5cc3653-2ee1-402a-aba2-7caae1da4f6c": {
        "id": "c5cc3653-2ee1-402a-aba2-7caae1da4f6c",
        "rgb": [
         43,
         126,
         184
        ]
       },
       "efa7f048-9acb-414c-8b04-a26811511a21": {
        "id": "efa7f048-9acb-414c-8b04-a26811511a21",
        "rgb": [
         25.118061674008803,
         73.60176211453744,
         107.4819383259912
        ]
       }
      },
      "rules": {
       "blockquote": {
        "color": "50f92c45-a630-455b-aec3-788680ec7410"
       },
       "code": {
        "font-family": "Anonymous Pro"
       },
       "h1": {
        "color": "c5cc3653-2ee1-402a-aba2-7caae1da4f6c",
        "font-family": "Lato",
        "font-size": 8
       },
       "h2": {
        "color": "c5cc3653-2ee1-402a-aba2-7caae1da4f6c",
        "font-family": "Lato",
        "font-size": 6
       },
       "h3": {
        "color": "50f92c45-a630-455b-aec3-788680ec7410",
        "font-family": "Lato",
        "font-size": 5.5
       },
       "h4": {
        "color": "c5cc3653-2ee1-402a-aba2-7caae1da4f6c",
        "font-family": "Lato",
        "font-size": 5
       },
       "h5": {
        "font-family": "Lato"
       },
       "h6": {
        "font-family": "Lato"
       },
       "h7": {
        "font-family": "Lato"
       },
       "pre": {
        "font-family": "Anonymous Pro",
        "font-size": 4
       }
      },
      "text-base": {
       "font-family": "Merriweather",
       "font-size": 4
      }
     },
     "3f4e1bdb-1efc-4ec4-9cff-ad8b054fcbbb": {
      "id": "3f4e1bdb-1efc-4ec4-9cff-ad8b054fcbbb",
      "palette": {
       "19cc588f-0593-49c9-9f4b-e4d7cc113b1c": {
        "id": "19cc588f-0593-49c9-9f4b-e4d7cc113b1c",
        "rgb": [
         252,
         252,
         252
        ]
       },
       "31af15d2-7e15-44c5-ab5e-e04b16a89eff": {
        "id": "31af15d2-7e15-44c5-ab5e-e04b16a89eff",
        "rgb": [
         68,
         68,
         68
        ]
       },
       "50f92c45-a630-455b-aec3-788680ec7410": {
        "id": "50f92c45-a630-455b-aec3-788680ec7410",
        "rgb": [
         155,
         177,
         192
        ]
       },
       "c5cc3653-2ee1-402a-aba2-7caae1da4f6c": {
        "id": "c5cc3653-2ee1-402a-aba2-7caae1da4f6c",
        "rgb": [
         43,
         126,
         184
        ]
       },
       "efa7f048-9acb-414c-8b04-a26811511a21": {
        "id": "efa7f048-9acb-414c-8b04-a26811511a21",
        "rgb": [
         25.118061674008803,
         73.60176211453744,
         107.4819383259912
        ]
       }
      },
      "rules": {
       "blockquote": {
        "color": "50f92c45-a630-455b-aec3-788680ec7410"
       },
       "code": {
        "font-family": "Anonymous Pro"
       },
       "h1": {
        "color": "c5cc3653-2ee1-402a-aba2-7caae1da4f6c",
        "font-family": "Lato",
        "font-size": 8
       },
       "h2": {
        "color": "c5cc3653-2ee1-402a-aba2-7caae1da4f6c",
        "font-family": "Lato",
        "font-size": 6
       },
       "h3": {
        "color": "50f92c45-a630-455b-aec3-788680ec7410",
        "font-family": "Lato",
        "font-size": 5.5
       },
       "h4": {
        "color": "c5cc3653-2ee1-402a-aba2-7caae1da4f6c",
        "font-family": "Lato",
        "font-size": 5
       },
       "h5": {
        "font-family": "Lato"
       },
       "h6": {
        "font-family": "Lato"
       },
       "h7": {
        "font-family": "Lato"
       },
       "pre": {
        "font-family": "Anonymous Pro",
        "font-size": 4
       }
      },
      "text-base": {
       "font-family": "Merriweather",
       "font-size": 4
      }
     },
     "ba05e62d-f6f7-48a5-a83f-c13dc0e3d32e": {
      "backgrounds": {
       "backgroundColor": {
        "background-color": "backgroundColor",
        "id": "backgroundColor"
       }
      },
      "id": "ba05e62d-f6f7-48a5-a83f-c13dc0e3d32e",
      "palette": {
       "backgroundColor": {
        "id": "backgroundColor",
        "rgb": [
         17,
         17,
         17
        ]
       },
       "headingColor": {
        "id": "headingColor",
        "rgb": [
         238,
         238,
         238
        ]
       },
       "linkColor": {
        "id": "linkColor",
        "rgb": [
         231,
         173,
         82
        ]
       },
       "mainColor": {
        "id": "mainColor",
        "rgb": [
         238,
         238,
         238
        ]
       }
      },
      "rules": {
       "a": {
        "color": "linkColor"
       },
       "h1": {
        "color": "headingColor",
        "font-family": "Montserrat",
        "font-size": 7
       },
       "h2": {
        "color": "headingColor",
        "font-family": "Montserrat",
        "font-size": 5
       },
       "h3": {
        "color": "headingColor",
        "font-family": "Montserrat",
        "font-size": 3.75
       },
       "h4": {
        "color": "headingColor",
        "font-family": "Montserrat",
        "font-size": 3
       },
       "h5": {
        "color": "headingColor",
        "font-family": "Montserrat"
       },
       "h6": {
        "color": "headingColor",
        "font-family": "Montserrat"
       },
       "h7": {
        "color": "headingColor",
        "font-family": "Montserrat"
       },
       "li": {
        "color": "mainColor",
        "font-family": "Open Sans",
        "font-size": 4
       },
       "p": {
        "color": "mainColor",
        "font-family": "Open Sans",
        "font-size": 4
       }
      },
      "text-base": {
       "color": "mainColor",
       "font-family": "Open Sans",
       "font-size": 4
      }
     },
     "c1e8c714-144b-4f9f-9cc9-caa1131f0094": {
      "id": "c1e8c714-144b-4f9f-9cc9-caa1131f0094",
      "palette": {
       "19cc588f-0593-49c9-9f4b-e4d7cc113b1c": {
        "id": "19cc588f-0593-49c9-9f4b-e4d7cc113b1c",
        "rgb": [
         252,
         252,
         252
        ]
       },
       "31af15d2-7e15-44c5-ab5e-e04b16a89eff": {
        "id": "31af15d2-7e15-44c5-ab5e-e04b16a89eff",
        "rgb": [
         68,
         68,
         68
        ]
       },
       "50f92c45-a630-455b-aec3-788680ec7410": {
        "id": "50f92c45-a630-455b-aec3-788680ec7410",
        "rgb": [
         155,
         177,
         192
        ]
       },
       "c5cc3653-2ee1-402a-aba2-7caae1da4f6c": {
        "id": "c5cc3653-2ee1-402a-aba2-7caae1da4f6c",
        "rgb": [
         43,
         126,
         184
        ]
       },
       "efa7f048-9acb-414c-8b04-a26811511a21": {
        "id": "efa7f048-9acb-414c-8b04-a26811511a21",
        "rgb": [
         25.118061674008803,
         73.60176211453744,
         107.4819383259912
        ]
       }
      },
      "rules": {
       "blockquote": {
        "color": "50f92c45-a630-455b-aec3-788680ec7410"
       },
       "code": {
        "font-family": "Anonymous Pro"
       },
       "h1": {
        "color": "c5cc3653-2ee1-402a-aba2-7caae1da4f6c",
        "font-family": "Lato",
        "font-size": 8
       },
       "h2": {
        "color": "c5cc3653-2ee1-402a-aba2-7caae1da4f6c",
        "font-family": "Lato",
        "font-size": 6
       },
       "h3": {
        "color": "50f92c45-a630-455b-aec3-788680ec7410",
        "font-family": "Lato",
        "font-size": 5.5
       },
       "h4": {
        "color": "c5cc3653-2ee1-402a-aba2-7caae1da4f6c",
        "font-family": "Lato",
        "font-size": 5
       },
       "h5": {
        "font-family": "Lato"
       },
       "h6": {
        "font-family": "Lato"
       },
       "h7": {
        "font-family": "Lato"
       },
       "pre": {
        "font-family": "Anonymous Pro",
        "font-size": 4
       }
      },
      "text-base": {
       "font-family": "Merriweather",
       "font-size": 4
      }
     },
     "cc71487e-bee4-493d-bc77-036f8dc2159b": {
      "id": "cc71487e-bee4-493d-bc77-036f8dc2159b",
      "palette": {
       "19cc588f-0593-49c9-9f4b-e4d7cc113b1c": {
        "id": "19cc588f-0593-49c9-9f4b-e4d7cc113b1c",
        "rgb": [
         252,
         252,
         252
        ]
       },
       "31af15d2-7e15-44c5-ab5e-e04b16a89eff": {
        "id": "31af15d2-7e15-44c5-ab5e-e04b16a89eff",
        "rgb": [
         68,
         68,
         68
        ]
       },
       "50f92c45-a630-455b-aec3-788680ec7410": {
        "id": "50f92c45-a630-455b-aec3-788680ec7410",
        "rgb": [
         155,
         177,
         192
        ]
       },
       "c5cc3653-2ee1-402a-aba2-7caae1da4f6c": {
        "id": "c5cc3653-2ee1-402a-aba2-7caae1da4f6c",
        "rgb": [
         43,
         126,
         184
        ]
       },
       "efa7f048-9acb-414c-8b04-a26811511a21": {
        "id": "efa7f048-9acb-414c-8b04-a26811511a21",
        "rgb": [
         25.118061674008803,
         73.60176211453744,
         107.4819383259912
        ]
       }
      },
      "rules": {
       "blockquote": {
        "color": "50f92c45-a630-455b-aec3-788680ec7410"
       },
       "code": {
        "font-family": "Anonymous Pro"
       },
       "h1": {
        "color": "c5cc3653-2ee1-402a-aba2-7caae1da4f6c",
        "font-family": "Lato",
        "font-size": 8
       },
       "h2": {
        "color": "c5cc3653-2ee1-402a-aba2-7caae1da4f6c",
        "font-family": "Lato",
        "font-size": 6
       },
       "h3": {
        "color": "50f92c45-a630-455b-aec3-788680ec7410",
        "font-family": "Lato",
        "font-size": 5.5
       },
       "h4": {
        "color": "c5cc3653-2ee1-402a-aba2-7caae1da4f6c",
        "font-family": "Lato",
        "font-size": 5
       },
       "h5": {
        "font-family": "Lato"
       },
       "h6": {
        "font-family": "Lato"
       },
       "h7": {
        "font-family": "Lato"
       },
       "pre": {
        "font-family": "Anonymous Pro",
        "font-size": 4
       }
      },
      "text-base": {
       "font-family": "Merriweather",
       "font-size": 4
      }
     }
    }
   }
  }
 },
 "nbformat": 4,
 "nbformat_minor": 0
}
