{
 "cells": [
  {
   "cell_type": "markdown",
   "metadata": {
    "nbpresent": {
     "id": "82214150-5417-48a9-832b-8994c4551bcf"
    }
   },
   "source": [
    "# 你好!\n",
    "\n",
    "Welcome to \"Machine Learning\" Chinese!\n",
    "\n",
    "## What is this about?\n",
    "\n",
    "Not surprisingly, this tutorial is about Python, Machine Learning and Chinese. We are going to explore ways to understand and improve language learning with Python.\n",
    "\n",
    "The tutorial is split into three sections:\n",
    "\n",
    "* Learning Chinese vocabulary: Here we will explore text data from the web and will try to get an understanding of which words we will have to learn in order to understand everyday Chinese.\n",
    "* Learning Chinese characters: Here we will look at Chinese characters and use machine learning to make learning them easier for us\n",
    "* Learning Chinese pronounication: Here we will use machine learning to help us pronounce Chinese syllables better\n",
    "\n",
    "Let's get started!"
   ]
  },
  {
   "cell_type": "markdown",
   "metadata": {},
   "source": [
    "## Words, words, words\n",
    "\n",
    "The first thing you need to do when learning a new language is to get an idea of the vocabulary"
   ]
  },
  {
   "cell_type": "code",
   "execution_count": 78,
   "metadata": {
    "collapsed": false
   },
   "outputs": [],
   "source": [
    "%matplotlib inline\n",
    "from matplotlib import rc\n",
    "rc('font', size=20)"
   ]
  },
  {
   "cell_type": "markdown",
   "metadata": {},
   "source": [
    "First, we need to get some data that we can work with. We are going to scrape it off the web using a Python library / tool called **Scrapy**.\n",
    "\n",
    "Scrapy makes it easy to build and run crawlers and provides much of the functionality that makes scraping easy, like following links and parsing documents.\n",
    "\n",
    "You can read more about Scrapy on the project's website:\n",
    "\n",
    "http://scrapy.org/\n",
    "\n",
    "Scrapy is designed to work as a command-line-tool, hence we will not do this part of the tutorial in the IPython notebook but rather on the command line.\n",
    "\n",
    "We are going to use Scrapy to build crawlers for various Chinese websites.\n",
    "\n",
    "**Let's have a look at the code of our scrapers!**\n",
    "\n",
    "(open the **scraper** subdirectory with your favorite editor)\n",
    "\n",
    "## Running the crawlers\n",
    "\n",
    "Now that we understand our crawlers, we can run them using the following command:\n",
    "\n",
    "    #run the crawler and store the result as JSON (one JSON document per line, for easy parsing)\n",
    "    \n",
    "    scrapy crawl wikipedia -o wikipedia.json -t jsonlines\n",
    "    \n",
    "This runs the Wikipedia crawlers and stores the results as JSON documents, where each result will be written as a one-line JSON document. This is useful because it makes loading the data much easier."
   ]
  },
  {
   "cell_type": "code",
   "execution_count": 79,
   "metadata": {
    "collapsed": false
   },
   "outputs": [
    {
     "name": "stdout",
     "output_type": "stream",
     "text": [
      "Cannot parse JSON at line 24741\n"
     ]
    }
   ],
   "source": [
    "#first, let's import json and nltk libraries, which we're gonna need in a second\n",
    "import json #from the Python standard library\n",
    "\n",
    "def load_scraped_data(filename):\n",
    "    items = []\n",
    "    with open(filename,'r') as input_file:\n",
    "        for i,line in enumerate(input_file):\n",
    "            try:\n",
    "                items.append(json.loads(line))\n",
    "            except:\n",
    "                print(\"Cannot parse JSON at line {}\".format(i+1,))\n",
    "                pass\n",
    "    return items\n",
    "\n",
    "sites = ['wikipedia','china_daily']\n",
    "        \n",
    "filename = 'scraper/wikipedia.json'\n",
    "\n",
    "items = load_scraped_data(filename)"
   ]
  },
  {
   "cell_type": "code",
   "execution_count": 80,
   "metadata": {
    "collapsed": false
   },
   "outputs": [
    {
     "name": "stdout",
     "output_type": "stream",
     "text": [
      "# 维基百科\n",
      "\n",
      "海納百川，有容乃大  \n",
      "人人可編輯的自由百科全書\n",
      "\n",
      "已有889,828篇條目\n",
      "\n",
      "分类 | 主题 | 求助  \n",
      "---|---|---  \n",
      "入门 | 沙盒 | 捐款  \n",
      "  \n",
      "## 特色列表\n",
      "\n",
      "**2002年亞洲運動會獎牌榜**：2002年亞洲運動會（官方名稱為第十四屆亞洲運動會）是2002年9月29日至10月14日於韓國釜山舉行的綜合運動會。釜山是繼1986年首爾之後，第二個主辦亞 ...\n"
     ]
    }
   ],
   "source": [
    "#Let's have a look at the items...\n",
    "print items[0]['text'][:200],'...'"
   ]
  },
  {
   "cell_type": "markdown",
   "metadata": {},
   "source": [
    "## Cleaning the data\n",
    "\n",
    "As you can see, there are various non-chinese characters in the text. For now, we will just leave them there, as we do not want to change the ordering of characters (i.e. if we had \"媒：习\" and we'd remove the \"：\", the two characters would appear in a sequence, which will distort our later analyses)."
   ]
  },
  {
   "cell_type": "code",
   "execution_count": 81,
   "metadata": {
    "collapsed": false
   },
   "outputs": [],
   "source": [
    "from collections import defaultdict\n",
    "import numpy as np\n",
    "\n",
    "def get_ngram_distribution(text,n=2):\n",
    "    distribution=defaultdict(lambda: 0)\n",
    "    for i in range(len(text)-n+1):\n",
    "        #we are only interested in non-ascii characters here...\n",
    "        t=text[i:i+n]\n",
    "        if all([ord(c) > 255 for c in t]):\n",
    "            distribution[t]+=1\n",
    "    return distribution\n",
    "\n",
    "def remove_ngrams(text,ngrams):\n",
    "    for ngram in ngrams:\n",
    "        while text.find(ngram) != -1:\n",
    "            i=text.find(ngram)\n",
    "            substr = text[i:i+len(ngram)]\n",
    "            j=i\n",
    "            while j > 0 and text[j:j+len(ngram)] in ngrams:\n",
    "                j-=1\n",
    "            k=i\n",
    "            while k < len(text)-len(ngram) and text[k:k+len(ngram)] in ngrams:\n",
    "                k+=1\n",
    "            text = text[:j]+text[k+len(ngram):]\n",
    "    return text\n",
    "            \n",
    "def remove_common_ngrams(items,threshold=0.5,n=3):\n",
    "    full_text = ' '.join([item['text'] for item in items])\n",
    "    ngram_distribution = get_ngram_distribution(full_text,n=n)\n",
    "    common_ngrams = {''.join(v[0]) for v in sorted(ngram_distribution.items(),key=lambda x:-x[1]) if v[1] > threshold*len(items)}\n",
    "    for item in items:\n",
    "        item['text']=remove_ngrams(item['text'],common_ngrams)\n",
    "    return common_ngrams\n",
    "\n",
    "removed_ngrams=remove_common_ngrams(items,n=6,threshold=0.05)"
   ]
  },
  {
   "cell_type": "code",
   "execution_count": 50,
   "metadata": {
    "collapsed": false
   },
   "outputs": [],
   "source": [
    "from collections import defaultdict\n",
    "\n",
    "def get_character_distribution(text):\n",
    "    distribution = defaultdict(lambda: 0)\n",
    "    for character in text:\n",
    "        #we are only interested in non-ascii characters here...\n",
    "        if ord(character) > 255:\n",
    "            distribution[character]+=1\n",
    "    return distribution\n",
    "\n",
    "full_text = ' '.join([item['text'] for item in items])\n",
    "character_distribution = get_character_distribution(full_text)"
   ]
  },
  {
   "cell_type": "code",
   "execution_count": 51,
   "metadata": {
    "collapsed": false,
    "scrolled": true
   },
   "outputs": [
    {
     "name": "stdout",
     "output_type": "stream",
     "text": [
      "一: 166749\n",
      "，: 155920\n",
      "页: 132207\n",
      "的: 109571\n",
      "上: 82732\n",
      "下: 73891\n",
      "。: 70063\n",
      "国: 64874\n",
      "、: 49301\n",
      "中: 47796\n",
      "在: 31192\n",
      "”: 30032\n",
      "“: 29975\n",
      "是: 29075\n",
      "人: 28764\n",
      "和: 28045\n",
      "大: 24830\n",
      "发: 24714\n",
      "不: 22355\n",
      "会: 22243\n",
      "了: 21741\n",
      "有: 21704\n",
      "新: 21636\n",
      "年: 21321\n",
      "要: 20694\n",
      "为: 19662\n",
      "民: 18746\n",
      "作: 18224\n",
      "党: 16953\n",
      "展: 16717\n",
      "全: 16334\n",
      "网: 16220\n",
      "经: 15409\n",
      "出: 15256\n",
      "主: 15022\n",
      "业: 14975\n",
      "家: 14922\n",
      "成: 14616\n",
      "实: 14286\n",
      "日: 14198\n",
      "对: 14154\n",
      "行: 14104\n",
      "政: 13952\n",
      "来: 13629\n",
      "：: 13485\n",
      "理: 13144\n",
      "个: 13072\n",
      "进: 13060\n",
      "力: 12943\n",
      "法: 12853\n",
      "时: 12636\n",
      "这: 12296\n",
      "我: 12292\n",
      "方: 12287\n",
      "动: 12027\n",
      "平: 12024\n",
      "地: 12000\n",
      "重: 11775\n",
      "生: 11659\n",
      "学: 11499\n",
      "强: 11429\n",
      "工: 11386\n",
      "关: 11381\n",
      "以: 11186\n",
      "多: 10703\n",
      "合: 10701\n",
      "化: 10602\n",
      "体: 10530\n",
      "能: 10277\n",
      "到: 10253\n",
      "建: 10217\n",
      "们: 10143\n",
      "同: 10085\n",
      "部: 10060\n",
      "开: 9932\n",
      "分: 9930\n",
      "海: 9804\n",
      "现: 9730\n",
      "自: 9430\n",
      "月: 9387\n",
      "于: 9234\n",
      "产: 9177\n",
      "与: 9142\n",
      "就: 9092\n",
      "制: 9014\n",
      "事: 8947\n",
      "长: 8863\n",
      "面: 8854\n",
      "定: 8761\n",
      "共: 8697\n",
      "过: 8655\n",
      "信: 8625\n",
      "济: 8606\n",
      "高: 8603\n",
      "习: 8590\n",
      "推: 8455\n",
      "创: 8440\n",
      "治: 8398\n",
      "问: 8250\n",
      "领: 8164\n"
     ]
    }
   ],
   "source": [
    "sorted_character_distribution = sorted(character_distribution.items(), key=lambda x: -x[1])\n",
    "print '\\n'.join([u'{}: {}'.format(c[0],c[1]) for c in sorted_character_distribution[:100]])"
   ]
  },
  {
   "cell_type": "markdown",
   "metadata": {},
   "source": [
    "* 中 (zhong1): middle (e.g. 中国 (zhong1 guo2): China [middle country])\n",
    "* 国 (guo2): country\n",
    "* 上 (shang4): above"
   ]
  },
  {
   "cell_type": "code",
   "execution_count": 52,
   "metadata": {
    "collapsed": false
   },
   "outputs": [
    {
     "data": {
      "text/plain": [
       "[]"
      ]
     },
     "execution_count": 52,
     "metadata": {},
     "output_type": "execute_result"
    },
    {
     "data": {
      "image/png": "[encoded data removed]",
      "text/plain": [
       "<matplotlib.figure.Figure at 0x7f621e3f1390>"
      ]
     },
     "metadata": {},
     "output_type": "display_data"
    }
   ],
   "source": [
    "from matplotlib import pylab \n",
    "import numpy as np\n",
    "total_words = float(sum([c[1] for c in sorted_character_distribution]))\n",
    "X = np.arange(len(sorted_character_distribution))\n",
    "frequencies = np.array([float(c[1])/total_words for c in sorted_character_distribution])\n",
    "pylab.figure(figsize=(20,10))\n",
    "pylab.plot(X,frequencies)\n",
    "pylab.semilogy()"
   ]
  },
  {
   "cell_type": "code",
   "execution_count": 53,
   "metadata": {
    "collapsed": false
   },
   "outputs": [
    {
     "name": "stdout",
     "output_type": "stream",
     "text": [
      "[-5.62694326  0.69092786  0.02830824]\n"
     ]
    }
   ],
   "source": [
    "import scipy.optimize\n",
    "import numpy as np\n",
    "\n",
    "def model(x,a,b,c):\n",
    "    return -x**b*c+a\n",
    "\n",
    "popt_p, pcov_p = scipy.optimize.curve_fit(model, X, np.log(frequencies),[0.03,0.5,0.1])\n",
    "\n",
    "print popt_p"
   ]
  },
  {
   "cell_type": "code",
   "execution_count": 54,
   "metadata": {
    "collapsed": false
   },
   "outputs": [
    {
     "data": {
      "text/plain": [
       "[]"
      ]
     },
     "execution_count": 54,
     "metadata": {},
     "output_type": "execute_result"
    },
    {
     "data": {
      "image/png": "[encoded data removed]",
      "text/plain": [
       "<matplotlib.figure.Figure at 0x7f621aabbe90>"
      ]
     },
     "metadata": {},
     "output_type": "display_data"
    }
   ],
   "source": [
    "pylab.figure(figsize=(20,10))\n",
    "pylab.plot(X,frequencies)\n",
    "pylab.plot(X,np.exp(model(X,*popt_p)),ls='--')\n",
    "pylab.legend(['data','model'])\n",
    "pylab.semilogy()"
   ]
  },
  {
   "cell_type": "code",
   "execution_count": 55,
   "metadata": {
    "collapsed": false
   },
   "outputs": [
    {
     "data": {
      "text/plain": [
       "(0, 1)"
      ]
     },
     "execution_count": 55,
     "metadata": {},
     "output_type": "execute_result"
    },
    {
     "data": {
      "image/png": "[encoded data removed]",
      "text/plain": [
       "<matplotlib.figure.Figure at 0x7f62097a2e50>"
      ]
     },
     "metadata": {},
     "output_type": "display_data"
    }
   ],
   "source": [
    "pylab.figure(figsize=(20,10))\n",
    "pylab.plot(X,np.cumsum(frequencies))\n",
    "pylab.semilogx()\n",
    "pylab.xlabel('how many Chinese characters we know')\n",
    "pylab.ylabel('hhow many percent of zh.wikipedia.org we understand')\n",
    "pylab.axhline(0.5,ls='--')\n",
    "pylab.axhline(0.9,ls='--')\n",
    "pylab.axvline(3000,ls='--')\n",
    "pylab.ylim(0,1)"
   ]
  },
  {
   "cell_type": "code",
   "execution_count": 56,
   "metadata": {
    "collapsed": false
   },
   "outputs": [],
   "source": [
    "def cdf_model(x,a,b,c):\n",
    "    t = np.sum(np.exp(model(x,a,b,c)))\n",
    "    return np.cumsum(np.exp(model(x,a,b,c)))/t"
   ]
  },
  {
   "cell_type": "code",
   "execution_count": 18,
   "metadata": {
    "collapsed": false
   },
   "outputs": [
    {
     "data": {
      "text/plain": [
       "(0, 1)"
      ]
     },
     "execution_count": 18,
     "metadata": {},
     "output_type": "execute_result"
    },
    {
     "data": {
      "image/png": "[encoded data removed]",
      "text/plain": [
       "<matplotlib.figure.Figure at 0x7f620940b610>"
      ]
     },
     "metadata": {},
     "output_type": "display_data"
    }
   ],
   "source": [
    "pylab.figure(figsize=(20,10))\n",
    "pylab.plot(X,np.cumsum(frequencies))\n",
    "pylab.plot(X,cdf_model(X,*popt_p),ls='--')\n",
    "pylab.semilogx()\n",
    "pylab.xlabel('how many Chinese characters we know')\n",
    "pylab.ylabel('hhow many percent of zh.wikipedia.org we understand')\n",
    "pylab.axhline(0.5,ls='--')\n",
    "pylab.axhline(0.9,ls='--')\n",
    "pylab.ylim(0,1)"
   ]
  },
  {
   "cell_type": "markdown",
   "metadata": {},
   "source": [
    "## Exercise (advanced)\n",
    "\n",
    "Can you find a model that fits the frequency distribution of the most seen characters better?\n",
    "\n",
    "* "
   ]
  },
  {
   "cell_type": "markdown",
   "metadata": {},
   "source": [
    "## Word Salad\n",
    "\n",
    "Now that we know which characters occur most frequently, let's try to find out which ones of them make up words. Chinese has about 1500 syllables ([1],[2]), which means that there are far more words with two or more syllables than with a single syllable. However, about 50 - 70 % of words in common texts are mono-syllabic, whereas 30 % are di-syllabic and only 1-5 % have more than two syllables ([3]).\n",
    "\n",
    "\n",
    "[1]: https://en.wikipedia.org/wiki/Standard_Chinese_phonology\n",
    "[2]: http://chinese.stackexchange.com/questions/14596/how-many-syllables-does-chinese-have\n",
    "[3]: http://journals.plos.org/plosone/article?id=10.1371/journal.pone.0138567\n",
    "\n",
    "## Let's try to find out which character combinations make up words!"
   ]
  },
  {
   "cell_type": "code",
   "execution_count": 57,
   "metadata": {
    "collapsed": true
   },
   "outputs": [],
   "source": [
    "full_text = ' '.join([item['text'] for item in items])\n",
    "bigram_distribution = get_ngram_distribution(full_text,2)"
   ]
  },
  {
   "cell_type": "code",
   "execution_count": 58,
   "metadata": {
    "collapsed": false
   },
   "outputs": [
    {
     "name": "stdout",
     "output_type": "stream",
     "text": [
      "一页: 132098\n",
      "下一: 66277\n",
      "上一: 66168\n",
      "中国: 23142\n",
      "发展: 13403\n",
      "经济: 8415\n",
      "国家: 7865\n",
      "人民: 7788\n",
      "我们: 6743\n",
      "工作: 5981\n",
      "社会: 5774\n",
      "问题: 5631\n",
      "近平: 4984\n",
      "网络: 4934\n",
      "习近: 4929\n",
      "国际: 4748\n",
      "历史: 4641\n",
      "一个: 4641\n",
      "建设: 4597\n",
      "创新: 4568\n",
      "，中: 4455\n",
      "合作: 4434\n",
      "改革: 4433\n",
      "南海: 4196\n",
      "重要: 4179\n",
      "主义: 4022\n",
      "仲裁: 3983\n",
      "。”: 3972\n",
      "安全: 3955\n",
      "世界: 3915\n",
      "”，: 3876\n",
      "领导: 3683\n",
      "分享: 3515\n",
      "，在: 3495\n",
      "美国: 3456\n",
      "企业: 3376\n",
      "国内: 3331\n",
      "中央: 3284\n",
      "党的: 3239\n",
      "互联: 3236\n",
      "，是: 3185\n",
      "政府: 3154\n",
      "，我: 3151\n",
      "”。: 3109\n",
      "政治: 3100\n",
      "，不: 3083\n",
      "联网: 3043\n",
      "关系: 2998\n",
      "坚持: 2956\n",
      "群众: 2944\n",
      "，这: 2863\n",
      "全国: 2835\n",
      "干部: 2744\n",
      "记者: 2734\n",
      "实现: 2728\n",
      "通过: 2727\n",
      "”的: 2727\n",
      "更多: 2698\n",
      "会议: 2692\n",
      "的“: 2673\n",
      "，也: 2645\n",
      "研究: 2637\n",
      "文化: 2618\n",
      "来，: 2613\n",
      "　　: 2559\n",
      "就是: 2544\n",
      "没有: 2520\n",
      "解决: 2494\n",
      "我国: 2472\n",
      "——: 2459\n",
      "国的: 2449\n",
      "战略: 2449\n",
      "思想: 2434\n",
      "制度: 2400\n",
      "技术: 2398\n",
      "完成: 2394\n",
      "精神: 2384\n",
      "信息: 2378\n",
      "推进: 2372\n",
      "，“: 2367\n",
      "服务: 2363\n",
      "克强: 2346\n",
      "方面: 2330\n",
      "日，: 2301\n",
      "李克: 2299\n",
      "民族: 2291\n",
      "书记: 2286\n",
      "政策: 2279\n",
      "增长: 2279\n",
      "组织: 2276\n",
      "北京: 2262\n",
      "共产: 2259\n",
      "市场: 2246\n",
      "成为: 2235\n",
      "进行: 2234\n",
      "推动: 2226\n",
      "共同: 2219\n",
      "说，: 2196\n",
      "的重: 2153\n",
      "表示: 2132\n"
     ]
    }
   ],
   "source": [
    "top_100_bigrams=sorted(bigram_distribution.items(), key=lambda x: -x[1])[:100]\n",
    "print '\\n'.join([u'{}: {}'.format(''.join(c[0]),c[1]) for c in top_100_bigrams])"
   ]
  },
  {
   "cell_type": "code",
   "execution_count": 22,
   "metadata": {
    "collapsed": true
   },
   "outputs": [],
   "source": [
    "trigram_distribution = get_ngram_distribution(full_text,3)"
   ]
  },
  {
   "cell_type": "code",
   "execution_count": 23,
   "metadata": {
    "collapsed": false
   },
   "outputs": [
    {
     "name": "stdout",
     "output_type": "stream",
     "text": [
      "下一页: 66019\n",
      "上一页: 66019\n",
      "习近平: 3791\n",
      "，中国: 2639\n",
      "互联网: 2637\n",
      "李克强: 2111\n",
      "门推荐: 1780\n",
      "热门推: 1779\n",
      "，我们: 1692\n",
      "号完成: 1690\n",
      "标签：: 1606\n",
      "发展的: 1408\n",
      "子怡和: 1286\n",
      "岁章子: 1286\n",
      "章子怡: 1286\n",
      "毁所有: 1260\n",
      "胖毁所: 1260\n",
      "一胖毁: 1260\n",
      "中国的: 1230\n",
      "表示，: 1174\n",
      "问题，: 1150\n",
      "进一步: 1139\n",
      "共产党: 1116\n",
      "仲裁庭: 1078\n",
      "的重要: 1062\n",
      "菲律宾: 1061\n",
      "发展，: 1048\n",
      "的发展: 1048\n",
      "国经济: 1025\n",
      "我们党: 1020\n",
      "。中国: 980\n",
      "自己的: 961\n",
      "米兰连: 959\n",
      "国际法: 953\n",
      "的历史: 934\n",
      "总书记: 908\n",
      "国人民: 899\n",
      "中国人: 898\n",
      "震撼了: 869\n",
      "太震撼: 867\n",
      "撼了！: 867\n",
      "中国经: 865\n",
      "的问题: 810\n",
      "中间价: 789\n",
      "股派送: 783\n",
      "国务图: 783\n",
      "价下调: 783\n",
      "间价下: 783\n",
      "斤脂肪: 777\n",
      "领导人: 769\n",
      "“中国: 763\n",
      "。我们: 748\n",
      "，也是: 733\n",
      "我们的: 726\n",
      "指出，: 711\n",
      "米排渠: 709\n",
      "是中国: 698\n",
      "亿美元: 680\n",
      "，就是: 671\n",
      "导干部: 658\n",
      "领导干: 651\n",
      "问题。: 644\n",
      "人民群: 643\n",
      "民群众: 639\n",
      "络安全: 631\n",
      "工作，: 630\n",
      "网络安: 628\n",
      "国家的: 623\n",
      "国政府: 623\n",
      "是一个: 619\n",
      "的中国: 618\n",
      "新一代: 615\n",
      "发展。: 611\n",
      "习主席: 601\n",
      "重要的: 600\n",
      "俄罗斯: 597\n",
      "：中国: 595\n",
      "认为，: 594\n",
      "改革开: 591\n",
      "革开放: 588\n",
      "，这是: 578\n",
      "国务院: 576\n",
      "，必须: 569\n",
      "，美国: 563\n",
      "人民的: 557\n",
      "，习近: 555\n",
      "中华民: 553\n",
      "全球第: 548\n",
      "华民族: 545\n",
      "已提交: 544\n",
      "交上诉: 543\n",
      "宝马国: 543\n",
      "提交上: 543\n",
      "一代宝: 543\n",
      "马国内: 543\n",
      "国内涉: 543\n",
      "社会主: 543\n",
      "代宝马: 543\n",
      "中国政: 540\n",
      "经济发: 535\n"
     ]
    }
   ],
   "source": [
    "top_100_trigrams=sorted(trigram_distribution.items(), key=lambda x: -x[1])[:100]\n",
    "print '\\n'.join([u'{}: {}'.format(''.join(c[0]),c[1]) for c in top_100_trigrams])"
   ]
  },
  {
   "cell_type": "code",
   "execution_count": 96,
   "metadata": {
    "collapsed": true
   },
   "outputs": [],
   "source": [
    "fivegram_distribution = get_ngram_distribution(full_text,5)"
   ]
  },
  {
   "cell_type": "code",
   "execution_count": 97,
   "metadata": {
    "collapsed": false
   },
   "outputs": [
    {
     "name": "stdout",
     "output_type": "stream",
     "text": [
      "俄密切关注: 1690\n",
      "岁章子怡和: 1286\n",
      "一胖毁所有: 1260\n",
      "太震撼了！: 867\n",
      "中间价下调: 783\n",
      "斤脂肪瘤拼: 777\n",
      "已提交上诉: 543\n",
      "居全球第二: 521\n",
      "科比告别战: 495\n",
      "中国共产党: 418\n",
      "李克强总理: 285\n",
      "马克思主义: 225\n",
      "习近平主席: 224\n",
      "限挑科比告: 212\n",
      "挑科比告别: 212\n",
      "极限挑科比: 212\n",
      "《极限挑科: 212\n",
      "南海仲裁案: 212\n",
      "李克强会见: 185\n",
      "人民群众的: 166\n",
      "新华社北京: 162\n",
      "“十三五”: 160\n",
      "有没有人管: 159\n",
      "供给侧改革: 145\n",
      "可持续发展: 144\n",
      "，中国政府: 142\n",
      "临时仲裁庭: 142\n",
      "日电（记者: 131\n",
      "个百分点。: 127\n",
      "互联网企业: 125\n",
      "新华社记者: 123\n",
      "的基础上，: 117\n",
      "长三批在即: 116\n",
      "，中国经济: 115\n",
      "，中国人民: 114\n",
      "习近平会见: 114\n",
      "中央政治局: 112\n",
      "表示，中国: 111\n",
      "国家网信办: 109\n",
      "日报道称，: 109\n",
      "发展中国家: 108\n",
      "来源：中国: 108\n",
      "新兴经济体: 106\n",
      "结合起来，: 100\n",
      "“营改增”: 96\n",
      "中华民族的: 96\n",
      "实现中国梦: 96\n",
      "中国经济的: 96\n",
      "中国人民的: 93\n",
      "结构性改革: 92\n",
      "党的十八大: 91\n",
      "“中国梦”: 91\n",
      "社会主义的: 91\n",
      "新发展理念: 91\n",
      "经济发展的: 91\n",
      "专家一带一: 90\n",
      "人死亡诈骗: 90\n",
      "“十二五”: 90\n",
      "家一带一路: 90\n",
      "为人死亡诈: 90\n",
      "毛泽东思想: 89\n",
      "李保国同志: 88\n",
      "前所未有的: 88\n",
      "中国互联网: 87\n",
      "互联网发展: 85\n",
      "民主集中制: 85\n",
      "【专家谈】: 84\n",
      "科学发展观: 84\n",
      "数据显示，: 83\n",
      "哈萨克斯坦: 83\n",
      "进一步加强: 82\n",
      "习近平同志: 82\n",
      "中国青年网: 81\n",
      "的情况下，: 80\n",
      "命运共同体: 80\n",
      "告诉记者，: 80\n",
      "新华网北京: 79\n",
      "共产党人的: 79\n",
      "外媒：中国: 79\n",
      "不忘初心，: 79\n",
      "国家统计局: 76\n",
      "南海问题的: 75\n",
      "移动互联网: 74\n",
      "，习总书记: 74\n",
      "改革开放的: 73\n",
      "中国领导人: 73\n",
      "，习近平在: 73\n",
      "中国经济网: 73\n",
      "日，习近平: 72\n",
      "新型城镇化: 72\n",
      "《公约》的: 71\n",
      "领导人会议: 71\n",
      "互联网时代: 71\n",
      "习近平出席: 71\n",
      "个百分点，: 70\n",
      "经济新常态: 69\n",
      "西藏自治区: 69\n",
      "了中华民族: 69\n",
      "的过程中，: 68\n",
      "中国日报网: 67\n"
     ]
    }
   ],
   "source": [
    "top_100_fivegrams=sorted(fivegram_distribution.items(), key=lambda x: -x[1])[:100]\n",
    "print '\\n'.join([u'{}: {}'.format(''.join(c[0]),c[1]) for c in top_100_fivegrams])"
   ]
  },
  {
   "cell_type": "markdown",
   "metadata": {
    "collapsed": true
   },
   "source": [
    "## Questions that we'll try to answer (without speaking a word of Chinese!)\n",
    "\n",
    "* Which of those characters are words on their own, and which are part of a word?\n",
    "* How does the number of distinct characters vary from page to page?\n",
    "* Which pages are probably related, given the characters that appear in them?"
   ]
  },
  {
   "cell_type": "markdown",
   "metadata": {},
   "source": [
    "### Question 1: Which character sequences are words?\n",
    "\n",
    "To work this out, we can make use of some Bayesian statistics!\n",
    "\n",
    "$$P(H|E) = \\frac{P(E|H)\\cdot P(H)}{P(E)}$$\n",
    "\n",
    "Here, our hypothesis $H$ is that a given character sequence is a word, $E$ is the evidence of finding that sequence. So, $P(E)$ is the probability of encountering the character sequence in our text, whereas $P(E|H)$ is the probability of finding the sequence given that the hypothesis is true, whereas $P(H)$ is the prior probability that the hyptothesis is true.\n",
    "\n"
   ]
  },
  {
   "cell_type": "markdown",
   "metadata": {},
   "source": [
    "# Exercices\n",
    "\n",
    "* Write a crawler for another Chinese website and run it to gather some data\n",
    "* Use the crawled data to perform the analyses that we did above (and possibly some others)\n",
    "* Load the classical Chinese text by Zhang Dai (a Ming dynasty writer who lived 1597-1689), which you can find in 'western-lake.txt', and perform the same analyses as above on it. Analyze the difference to a contemporary text"
   ]
  },
  {
   "cell_type": "code",
   "execution_count": 40,
   "metadata": {
    "collapsed": true
   },
   "outputs": [],
   "source": [
    "from sklearn.feature_extraction.text import TfidfVectorizer\n",
    "from sklearn.feature_extraction.text import CountVectorizer\n",
    "from sklearn.cluster import KMeans\n",
    "from sklearn import metrics\n",
    "count_vect = CountVectorizer()"
   ]
  },
  {
   "cell_type": "code",
   "execution_count": 63,
   "metadata": {
    "collapsed": false
   },
   "outputs": [],
   "source": [
    "vectorizer = TfidfVectorizer(max_df=0.5, max_features=1000,\n",
    "                                 min_df=2, stop_words=None,\n",
    "                                 use_idf=True)\n",
    "X = vectorizer.fit_transform([item['text'] for item in items])"
   ]
  },
  {
   "cell_type": "code",
   "execution_count": 64,
   "metadata": {
    "collapsed": false
   },
   "outputs": [
    {
     "data": {
      "text/plain": [
       "<2793x1000 sparse matrix of type '<type 'numpy.float64'>'\n",
       "\twith 681178 stored elements in Compressed Sparse Row format>"
      ]
     },
     "execution_count": 64,
     "metadata": {},
     "output_type": "execute_result"
    }
   ],
   "source": [
    "X"
   ]
  },
  {
   "cell_type": "code",
   "execution_count": 72,
   "metadata": {
    "collapsed": false
   },
   "outputs": [],
   "source": [
    "n_clusters = 4\n",
    "km = KMeans(n_clusters=n_clusters, init='k-means++', max_iter=1000, n_init=1, verbose=False)"
   ]
  },
  {
   "cell_type": "code",
   "execution_count": 73,
   "metadata": {
    "collapsed": false,
    "scrolled": true
   },
   "outputs": [
    {
     "data": {
      "text/plain": [
       "KMeans(copy_x=True, init='k-means++', max_iter=1000, n_clusters=4, n_init=1,\n",
       "    n_jobs=1, precompute_distances='auto', random_state=None, tol=0.0001,\n",
       "    verbose=False)"
      ]
     },
     "execution_count": 73,
     "metadata": {},
     "output_type": "execute_result"
    }
   ],
   "source": [
    "km.fit(X)"
   ]
  },
  {
   "cell_type": "code",
   "execution_count": 74,
   "metadata": {
    "collapsed": false
   },
   "outputs": [
    {
     "name": "stdout",
     "output_type": "stream",
     "text": [
      "http://china.chinadaily.com.cn/theory/node_1144725.htm 2\n",
      "http://china.chinadaily.com.cn/node_1143905.htm 2\n",
      "http://china.chinadaily.com.cn/node_1143902.htm 1\n",
      "http://china.chinadaily.com.cn/node_1143906.htm 1\n",
      "http://china.chinadaily.com.cn/node_1143904.htm 1\n",
      "http://china.chinadaily.com.cn/theory/2016-07/14/content_26092825.htm 3\n",
      "http://china.chinadaily.com.cn/2016-05/12/content_25243726.htm 2\n",
      "http://china.chinadaily.com.cn/2016-06/20/content_25777809.htm 0\n",
      "http://china.chinadaily.com.cn/theory/2016-07/02/content_25941307.htm 3\n",
      "http://china.chinadaily.com.cn/2016-07/18/content_26133675.htm 3\n",
      "http://china.chinadaily.com.cn/2016-06/09/content_25661537.htm 0\n",
      "http://china.chinadaily.com.cn/node_1143902_584.htm 1\n",
      "http://china.chinadaily.com.cn/node_1143902_585.htm 1\n",
      "http://china.chinadaily.com.cn/node_1143902_771.htm 1\n",
      "http://china.chinadaily.com.cn/node_1143902_686.htm 1\n",
      "http://china.chinadaily.com.cn/2016sy/2016-06/13/content_25694076.htm 0\n",
      "http://china.chinadaily.com.cn/2016-06/15/content_25724026.htm 0\n",
      "http://china.chinadaily.com.cn/theory/2016-07/02/content_25941307_3.htm 3\n",
      "http://china.chinadaily.com.cn/2016-06/09/content_25661537_5.htm 0\n",
      "http://china.chinadaily.com.cn/2016sy/2016-06/13/content_25694076_10.htm 0\n"
     ]
    }
   ],
   "source": [
    "categories = km.predict(X)[:20]\n",
    "\n",
    "for i,item in enumerate(items[:20]):\n",
    "    print item['url'],categories[i]"
   ]
  },
  {
   "cell_type": "code",
   "execution_count": null,
   "metadata": {
    "collapsed": true
   },
   "outputs": [],
   "source": [
    "from sklearn.naive_bayes import MultinomialNB"
   ]
  },
  {
   "cell_type": "code",
   "execution_count": null,
   "metadata": {
    "collapsed": true
   },
   "outputs": [],
   "source": [
    "clf = MultinomialNB().fit(X_train_tfidf, twenty_train.target)"
   ]
  }
 ],
 "metadata": {
  "kernelspec": {
   "display_name": "Python 2",
   "language": "python",
   "name": "python2"
  },
  "language_info": {
   "codemirror_mode": {
    "name": "ipython",
    "version": 2
   },
   "file_extension": ".py",
   "mimetype": "text/x-python",
   "name": "python",
   "nbconvert_exporter": "python",
   "pygments_lexer": "ipython2",
   "version": "2.7.11+"
  },
  "nbpresent": {
   "slides": {
    "25b680fa-ea50-44a4-82a3-6621fa61547a": {
     "id": "25b680fa-ea50-44a4-82a3-6621fa61547a",
     "prev": null,
     "regions": {
      "5f8ba03d-ed09-4150-86e1-01d3fc1792c9": {
       "attrs": {
        "height": 1,
        "width": 1,
        "x": 0.0013854679802955665,
        "y": 0.009852216748768473
       },
       "content": {
        "cell": "82214150-5417-48a9-832b-8994c4551bcf",
        "part": "source"
       },
       "id": "5f8ba03d-ed09-4150-86e1-01d3fc1792c9"
      }
     }
    }
   },
   "themes": {
    "default": "3f4e1bdb-1efc-4ec4-9cff-ad8b054fcbbb",
    "theme": {
     "1eba4a1c-cc68-4972-b55a-2f5e1ed90d98": {
      "backgrounds": {
       "dc7afa04-bf90-40b1-82a5-726e3cff5267": {
        "background-color": "31af15d2-7e15-44c5-ab5e-e04b16a89eff",
        "id": "dc7afa04-bf90-40b1-82a5-726e3cff5267"
       }
      },
      "id": "1eba4a1c-cc68-4972-b55a-2f5e1ed90d98",
      "palette": {
       "19cc588f-0593-49c9-9f4b-e4d7cc113b1c": {
        "id": "19cc588f-0593-49c9-9f4b-e4d7cc113b1c",
        "rgb": [
         252,
         252,
         252
        ]
       },
       "31af15d2-7e15-44c5-ab5e-e04b16a89eff": {
        "id": "31af15d2-7e15-44c5-ab5e-e04b16a89eff",
        "rgb": [
         68,
         68,
         68
        ]
       },
       "50f92c45-a630-455b-aec3-788680ec7410": {
        "id": "50f92c45-a630-455b-aec3-788680ec7410",
        "rgb": [
         197,
         226,
         245
        ]
       },
       "c5cc3653-2ee1-402a-aba2-7caae1da4f6c": {
        "id": "c5cc3653-2ee1-402a-aba2-7caae1da4f6c",
        "rgb": [
         43,
         126,
         184
        ]
       },
       "efa7f048-9acb-414c-8b04-a26811511a21": {
        "id": "efa7f048-9acb-414c-8b04-a26811511a21",
        "rgb": [
         25.118061674008803,
         73.60176211453744,
         107.4819383259912
        ]
       }
      },
      "rules": {
       "a": {
        "color": "19cc588f-0593-49c9-9f4b-e4d7cc113b1c"
       },
       "blockquote": {
        "color": "50f92c45-a630-455b-aec3-788680ec7410",
        "font-size": 3
       },
       "code": {
        "font-family": "Anonymous Pro"
       },
       "h1": {
        "color": "19cc588f-0593-49c9-9f4b-e4d7cc113b1c",
        "font-family": "Merriweather",
        "font-size": 8
       },
       "h2": {
        "color": "19cc588f-0593-49c9-9f4b-e4d7cc113b1c",
        "font-family": "Merriweather",
        "font-size": 6
       },
       "h3": {
        "color": "50f92c45-a630-455b-aec3-788680ec7410",
        "font-family": "Lato",
        "font-size": 5.5
       },
       "h4": {
        "color": "c5cc3653-2ee1-402a-aba2-7caae1da4f6c",
        "font-family": "Lato",
        "font-size": 5
       },
       "h5": {
        "font-family": "Lato"
       },
       "h6": {
        "font-family": "Lato"
       },
       "h7": {
        "font-family": "Lato"
       },
       "li": {
        "color": "50f92c45-a630-455b-aec3-788680ec7410",
        "font-size": 3.25
       },
       "pre": {
        "font-family": "Anonymous Pro",
        "font-size": 4
       }
      },
      "text-base": {
       "color": "19cc588f-0593-49c9-9f4b-e4d7cc113b1c",
       "font-family": "Lato",
       "font-size": 4
      }
     },
     "33f2597d-ea06-46f8-9dac-a9a674f43acd": {
      "id": "33f2597d-ea06-46f8-9dac-a9a674f43acd",
      "palette": {
       "19cc588f-0593-49c9-9f4b-e4d7cc113b1c": {
        "id": "19cc588f-0593-49c9-9f4b-e4d7cc113b1c",
        "rgb": [
         252,
         252,
         252
        ]
       },
       "31af15d2-7e15-44c5-ab5e-e04b16a89eff": {
        "id": "31af15d2-7e15-44c5-ab5e-e04b16a89eff",
        "rgb": [
         68,
         68,
         68
        ]
       },
       "50f92c45-a630-455b-aec3-788680ec7410": {
        "id": "50f92c45-a630-455b-aec3-788680ec7410",
        "rgb": [
         155,
         177,
         192
        ]
       },
       "c5cc3653-2ee1-402a-aba2-7caae1da4f6c": {
        "id": "c5cc3653-2ee1-402a-aba2-7caae1da4f6c",
        "rgb": [
         43,
         126,
         184
        ]
       },
       "efa7f048-9acb-414c-8b04-a26811511a21": {
        "id": "efa7f048-9acb-414c-8b04-a26811511a21",
        "rgb": [
         25.118061674008803,
         73.60176211453744,
         107.4819383259912
        ]
       }
      },
      "rules": {
       "blockquote": {
        "color": "50f92c45-a630-455b-aec3-788680ec7410"
       },
       "code": {
        "font-family": "Anonymous Pro"
       },
       "h1": {
        "color": "c5cc3653-2ee1-402a-aba2-7caae1da4f6c",
        "font-family": "Lato",
        "font-size": 8
       },
       "h2": {
        "color": "c5cc3653-2ee1-402a-aba2-7caae1da4f6c",
        "font-family": "Lato",
        "font-size": 6
       },
       "h3": {
        "color": "50f92c45-a630-455b-aec3-788680ec7410",
        "font-family": "Lato",
        "font-size": 5.5
       },
       "h4": {
        "color": "c5cc3653-2ee1-402a-aba2-7caae1da4f6c",
        "font-family": "Lato",
        "font-size": 5
       },
       "h5": {
        "font-family": "Lato"
       },
       "h6": {
        "font-family": "Lato"
       },
       "h7": {
        "font-family": "Lato"
       },
       "pre": {
        "font-family": "Anonymous Pro",
        "font-size": 4
       }
      },
      "text-base": {
       "font-family": "Merriweather",
       "font-size": 4
      }
     },
     "3f4e1bdb-1efc-4ec4-9cff-ad8b054fcbbb": {
      "id": "3f4e1bdb-1efc-4ec4-9cff-ad8b054fcbbb",
      "palette": {
       "19cc588f-0593-49c9-9f4b-e4d7cc113b1c": {
        "id": "19cc588f-0593-49c9-9f4b-e4d7cc113b1c",
        "rgb": [
         252,
         252,
         252
        ]
       },
       "31af15d2-7e15-44c5-ab5e-e04b16a89eff": {
        "id": "31af15d2-7e15-44c5-ab5e-e04b16a89eff",
        "rgb": [
         68,
         68,
         68
        ]
       },
       "50f92c45-a630-455b-aec3-788680ec7410": {
        "id": "50f92c45-a630-455b-aec3-788680ec7410",
        "rgb": [
         155,
         177,
         192
        ]
       },
       "c5cc3653-2ee1-402a-aba2-7caae1da4f6c": {
        "id": "c5cc3653-2ee1-402a-aba2-7caae1da4f6c",
        "rgb": [
         43,
         126,
         184
        ]
       },
       "efa7f048-9acb-414c-8b04-a26811511a21": {
        "id": "efa7f048-9acb-414c-8b04-a26811511a21",
        "rgb": [
         25.118061674008803,
         73.60176211453744,
         107.4819383259912
        ]
       }
      },
      "rules": {
       "blockquote": {
        "color": "50f92c45-a630-455b-aec3-788680ec7410"
       },
       "code": {
        "font-family": "Anonymous Pro"
       },
       "h1": {
        "color": "c5cc3653-2ee1-402a-aba2-7caae1da4f6c",
        "font-family": "Lato",
        "font-size": 8
       },
       "h2": {
        "color": "c5cc3653-2ee1-402a-aba2-7caae1da4f6c",
        "font-family": "Lato",
        "font-size": 6
       },
       "h3": {
        "color": "50f92c45-a630-455b-aec3-788680ec7410",
        "font-family": "Lato",
        "font-size": 5.5
       },
       "h4": {
        "color": "c5cc3653-2ee1-402a-aba2-7caae1da4f6c",
        "font-family": "Lato",
        "font-size": 5
       },
       "h5": {
        "font-family": "Lato"
       },
       "h6": {
        "font-family": "Lato"
       },
       "h7": {
        "font-family": "Lato"
       },
       "pre": {
        "font-family": "Anonymous Pro",
        "font-size": 4
       }
      },
      "text-base": {
       "font-family": "Merriweather",
       "font-size": 4
      }
     },
     "ba05e62d-f6f7-48a5-a83f-c13dc0e3d32e": {
      "backgrounds": {
       "backgroundColor": {
        "background-color": "backgroundColor",
        "id": "backgroundColor"
       }
      },
      "id": "ba05e62d-f6f7-48a5-a83f-c13dc0e3d32e",
      "palette": {
       "backgroundColor": {
        "id": "backgroundColor",
        "rgb": [
         17,
         17,
         17
        ]
       },
       "headingColor": {
        "id": "headingColor",
        "rgb": [
         238,
         238,
         238
        ]
       },
       "linkColor": {
        "id": "linkColor",
        "rgb": [
         231,
         173,
         82
        ]
       },
       "mainColor": {
        "id": "mainColor",
        "rgb": [
         238,
         238,
         238
        ]
       }
      },
      "rules": {
       "a": {
        "color": "linkColor"
       },
       "h1": {
        "color": "headingColor",
        "font-family": "Montserrat",
        "font-size": 7
       },
       "h2": {
        "color": "headingColor",
        "font-family": "Montserrat",
        "font-size": 5
       },
       "h3": {
        "color": "headingColor",
        "font-family": "Montserrat",
        "font-size": 3.75
       },
       "h4": {
        "color": "headingColor",
        "font-family": "Montserrat",
        "font-size": 3
       },
       "h5": {
        "color": "headingColor",
        "font-family": "Montserrat"
       },
       "h6": {
        "color": "headingColor",
        "font-family": "Montserrat"
       },
       "h7": {
        "color": "headingColor",
        "font-family": "Montserrat"
       },
       "li": {
        "color": "mainColor",
        "font-family": "Open Sans",
        "font-size": 4
       },
       "p": {
        "color": "mainColor",
        "font-family": "Open Sans",
        "font-size": 4
       }
      },
      "text-base": {
       "color": "mainColor",
       "font-family": "Open Sans",
       "font-size": 4
      }
     },
     "c1e8c714-144b-4f9f-9cc9-caa1131f0094": {
      "id": "c1e8c714-144b-4f9f-9cc9-caa1131f0094",
      "palette": {
       "19cc588f-0593-49c9-9f4b-e4d7cc113b1c": {
        "id": "19cc588f-0593-49c9-9f4b-e4d7cc113b1c",
        "rgb": [
         252,
         252,
         252
        ]
       },
       "31af15d2-7e15-44c5-ab5e-e04b16a89eff": {
        "id": "31af15d2-7e15-44c5-ab5e-e04b16a89eff",
        "rgb": [
         68,
         68,
         68
        ]
       },
       "50f92c45-a630-455b-aec3-788680ec7410": {
        "id": "50f92c45-a630-455b-aec3-788680ec7410",
        "rgb": [
         155,
         177,
         192
        ]
       },
       "c5cc3653-2ee1-402a-aba2-7caae1da4f6c": {
        "id": "c5cc3653-2ee1-402a-aba2-7caae1da4f6c",
        "rgb": [
         43,
         126,
         184
        ]
       },
       "efa7f048-9acb-414c-8b04-a26811511a21": {
        "id": "efa7f048-9acb-414c-8b04-a26811511a21",
        "rgb": [
         25.118061674008803,
         73.60176211453744,
         107.4819383259912
        ]
       }
      },
      "rules": {
       "blockquote": {
        "color": "50f92c45-a630-455b-aec3-788680ec7410"
       },
       "code": {
        "font-family": "Anonymous Pro"
       },
       "h1": {
        "color": "c5cc3653-2ee1-402a-aba2-7caae1da4f6c",
        "font-family": "Lato",
        "font-size": 8
       },
       "h2": {
        "color": "c5cc3653-2ee1-402a-aba2-7caae1da4f6c",
        "font-family": "Lato",
        "font-size": 6
       },
       "h3": {
        "color": "50f92c45-a630-455b-aec3-788680ec7410",
        "font-family": "Lato",
        "font-size": 5.5
       },
       "h4": {
        "color": "c5cc3653-2ee1-402a-aba2-7caae1da4f6c",
        "font-family": "Lato",
        "font-size": 5
       },
       "h5": {
        "font-family": "Lato"
       },
       "h6": {
        "font-family": "Lato"
       },
       "h7": {
        "font-family": "Lato"
       },
       "pre": {
        "font-family": "Anonymous Pro",
        "font-size": 4
       }
      },
      "text-base": {
       "font-family": "Merriweather",
       "font-size": 4
      }
     },
     "cc71487e-bee4-493d-bc77-036f8dc2159b": {
      "id": "cc71487e-bee4-493d-bc77-036f8dc2159b",
      "palette": {
       "19cc588f-0593-49c9-9f4b-e4d7cc113b1c": {
        "id": "19cc588f-0593-49c9-9f4b-e4d7cc113b1c",
        "rgb": [
         252,
         252,
         252
        ]
       },
       "31af15d2-7e15-44c5-ab5e-e04b16a89eff": {
        "id": "31af15d2-7e15-44c5-ab5e-e04b16a89eff",
        "rgb": [
         68,
         68,
         68
        ]
       },
       "50f92c45-a630-455b-aec3-788680ec7410": {
        "id": "50f92c45-a630-455b-aec3-788680ec7410",
        "rgb": [
         155,
         177,
         192
        ]
       },
       "c5cc3653-2ee1-402a-aba2-7caae1da4f6c": {
        "id": "c5cc3653-2ee1-402a-aba2-7caae1da4f6c",
        "rgb": [
         43,
         126,
         184
        ]
       },
       "efa7f048-9acb-414c-8b04-a26811511a21": {
        "id": "efa7f048-9acb-414c-8b04-a26811511a21",
        "rgb": [
         25.118061674008803,
         73.60176211453744,
         107.4819383259912
        ]
       }
      },
      "rules": {
       "blockquote": {
        "color": "50f92c45-a630-455b-aec3-788680ec7410"
       },
       "code": {
        "font-family": "Anonymous Pro"
       },
       "h1": {
        "color": "c5cc3653-2ee1-402a-aba2-7caae1da4f6c",
        "font-family": "Lato",
        "font-size": 8
       },
       "h2": {
        "color": "c5cc3653-2ee1-402a-aba2-7caae1da4f6c",
        "font-family": "Lato",
        "font-size": 6
       },
       "h3": {
        "color": "50f92c45-a630-455b-aec3-788680ec7410",
        "font-family": "Lato",
        "font-size": 5.5
       },
       "h4": {
        "color": "c5cc3653-2ee1-402a-aba2-7caae1da4f6c",
        "font-family": "Lato",
        "font-size": 5
       },
       "h5": {
        "font-family": "Lato"
       },
       "h6": {
        "font-family": "Lato"
       },
       "h7": {
        "font-family": "Lato"
       },
       "pre": {
        "font-family": "Anonymous Pro",
        "font-size": 4
       }
      },
      "text-base": {
       "font-family": "Merriweather",
       "font-size": 4
      }
     }
    }
   }
  }
 },
 "nbformat": 4,
 "nbformat_minor": 0
}
